{
  "nbformat": 4,
  "nbformat_minor": 0,
  "metadata": {
    "colab": {
      "provenance": [],
      "collapsed_sections": [],
      "authorship_tag": "ABX9TyO6gKKdJ2vAsKjnDIXh2xgZ",
      "include_colab_link": true
    },
    "kernelspec": {
      "name": "python3",
      "display_name": "Python 3"
    },
    "language_info": {
      "name": "python"
    }
  },
  "cells": [
    {
      "cell_type": "markdown",
      "metadata": {
        "id": "view-in-github",
        "colab_type": "text"
      },
      "source": [
        "<a href=\"https://colab.research.google.com/github/abhi-11nav/Spotify-data-Analysis/blob/main/Spotify_Music_Analysis.ipynb\" target=\"_parent\"><img src=\"https://colab.research.google.com/assets/colab-badge.svg\" alt=\"Open In Colab\"/></a>"
      ]
    },
    {
      "cell_type": "markdown",
      "source": [
        "## Spotify Data Analysis"
      ],
      "metadata": {
        "id": "lkOlmWYkCIDa"
      }
    },
    {
      "cell_type": "markdown",
      "source": [
        "### Dataset credits:\n",
        "\n",
        "https://www.kaggle.com/datasets/maharshipandya/-spotify-tracks-dataset"
      ],
      "metadata": {
        "id": "4BQCaVXkCH77"
      }
    },
    {
      "cell_type": "code",
      "execution_count": null,
      "metadata": {
        "id": "_ekjhwIh-2Xe"
      },
      "outputs": [],
      "source": [
        "import numpy as np \n",
        "import pandas as pd"
      ]
    },
    {
      "cell_type": "code",
      "source": [
        "!git clone https://github.com/abhi-11nav/Spotify-data-Analysis.git"
      ],
      "metadata": {
        "colab": {
          "base_uri": "https://localhost:8080/"
        },
        "id": "0PK2Me2t_LON",
        "outputId": "339ec961-a65c-4b43-cf62-21a1873a5b34"
      },
      "execution_count": null,
      "outputs": [
        {
          "output_type": "stream",
          "name": "stdout",
          "text": [
            "Cloning into 'Spotify-data-Analysis'...\n",
            "remote: Enumerating objects: 27, done.\u001b[K\n",
            "remote: Counting objects: 100% (27/27), done.\u001b[K\n",
            "remote: Compressing objects: 100% (25/25), done.\u001b[K\n",
            "remote: Total 27 (delta 12), reused 0 (delta 0), pack-reused 0\u001b[K\n",
            "Unpacking objects: 100% (27/27), done.\n"
          ]
        }
      ]
    },
    {
      "cell_type": "code",
      "source": [
        "data = pd.read_csv(\"/content/Spotify-data-Analysis/dataset.csv\")"
      ],
      "metadata": {
        "id": "L2hS5TbF_aKS"
      },
      "execution_count": null,
      "outputs": []
    },
    {
      "cell_type": "code",
      "source": [
        "data.head()"
      ],
      "metadata": {
        "colab": {
          "base_uri": "https://localhost:8080/",
          "height": 433
        },
        "id": "QkwsHBzGCPi8",
        "outputId": "63f68b56-ed68-44c3-f1da-1365ef1c6a35"
      },
      "execution_count": null,
      "outputs": [
        {
          "output_type": "execute_result",
          "data": {
            "text/plain": [
              "   Unnamed: 0                track_id                 artists  \\\n",
              "0           0  5SuOikwiRyPMVoIQDJUgSV             Gen Hoshino   \n",
              "1           1  4qPNDBW1i3p13qLCt0Ki3A            Ben Woodward   \n",
              "2           2  1iJBSr7s7jYXzM8EGcbK5b  Ingrid Michaelson;ZAYN   \n",
              "3           3  6lfxq3CG4xtTiEg7opyCyx            Kina Grannis   \n",
              "4           4  5vjLSffimiIP26QG5WcN2K        Chord Overstreet   \n",
              "\n",
              "                                          album_name  \\\n",
              "0                                             Comedy   \n",
              "1                                   Ghost (Acoustic)   \n",
              "2                                     To Begin Again   \n",
              "3  Crazy Rich Asians (Original Motion Picture Sou...   \n",
              "4                                            Hold On   \n",
              "\n",
              "                   track_name  popularity  duration_ms  explicit  \\\n",
              "0                      Comedy          73       230666     False   \n",
              "1            Ghost - Acoustic          55       149610     False   \n",
              "2              To Begin Again          57       210826     False   \n",
              "3  Can't Help Falling In Love          71       201933     False   \n",
              "4                     Hold On          82       198853     False   \n",
              "\n",
              "   danceability  energy  ...  loudness  mode  speechiness  acousticness  \\\n",
              "0         0.676  0.4610  ...    -6.746     0       0.1430        0.0322   \n",
              "1         0.420  0.1660  ...   -17.235     1       0.0763        0.9240   \n",
              "2         0.438  0.3590  ...    -9.734     1       0.0557        0.2100   \n",
              "3         0.266  0.0596  ...   -18.515     1       0.0363        0.9050   \n",
              "4         0.618  0.4430  ...    -9.681     1       0.0526        0.4690   \n",
              "\n",
              "   instrumentalness  liveness  valence    tempo  time_signature  track_genre  \n",
              "0          0.000001    0.3580    0.715   87.917               4     acoustic  \n",
              "1          0.000006    0.1010    0.267   77.489               4     acoustic  \n",
              "2          0.000000    0.1170    0.120   76.332               4     acoustic  \n",
              "3          0.000071    0.1320    0.143  181.740               3     acoustic  \n",
              "4          0.000000    0.0829    0.167  119.949               4     acoustic  \n",
              "\n",
              "[5 rows x 21 columns]"
            ],
            "text/html": [
              "\n",
              "  <div id=\"df-6ea7cdcc-64ca-48fa-be0e-306eb9aee9ba\">\n",
              "    <div class=\"colab-df-container\">\n",
              "      <div>\n",
              "<style scoped>\n",
              "    .dataframe tbody tr th:only-of-type {\n",
              "        vertical-align: middle;\n",
              "    }\n",
              "\n",
              "    .dataframe tbody tr th {\n",
              "        vertical-align: top;\n",
              "    }\n",
              "\n",
              "    .dataframe thead th {\n",
              "        text-align: right;\n",
              "    }\n",
              "</style>\n",
              "<table border=\"1\" class=\"dataframe\">\n",
              "  <thead>\n",
              "    <tr style=\"text-align: right;\">\n",
              "      <th></th>\n",
              "      <th>Unnamed: 0</th>\n",
              "      <th>track_id</th>\n",
              "      <th>artists</th>\n",
              "      <th>album_name</th>\n",
              "      <th>track_name</th>\n",
              "      <th>popularity</th>\n",
              "      <th>duration_ms</th>\n",
              "      <th>explicit</th>\n",
              "      <th>danceability</th>\n",
              "      <th>energy</th>\n",
              "      <th>...</th>\n",
              "      <th>loudness</th>\n",
              "      <th>mode</th>\n",
              "      <th>speechiness</th>\n",
              "      <th>acousticness</th>\n",
              "      <th>instrumentalness</th>\n",
              "      <th>liveness</th>\n",
              "      <th>valence</th>\n",
              "      <th>tempo</th>\n",
              "      <th>time_signature</th>\n",
              "      <th>track_genre</th>\n",
              "    </tr>\n",
              "  </thead>\n",
              "  <tbody>\n",
              "    <tr>\n",
              "      <th>0</th>\n",
              "      <td>0</td>\n",
              "      <td>5SuOikwiRyPMVoIQDJUgSV</td>\n",
              "      <td>Gen Hoshino</td>\n",
              "      <td>Comedy</td>\n",
              "      <td>Comedy</td>\n",
              "      <td>73</td>\n",
              "      <td>230666</td>\n",
              "      <td>False</td>\n",
              "      <td>0.676</td>\n",
              "      <td>0.4610</td>\n",
              "      <td>...</td>\n",
              "      <td>-6.746</td>\n",
              "      <td>0</td>\n",
              "      <td>0.1430</td>\n",
              "      <td>0.0322</td>\n",
              "      <td>0.000001</td>\n",
              "      <td>0.3580</td>\n",
              "      <td>0.715</td>\n",
              "      <td>87.917</td>\n",
              "      <td>4</td>\n",
              "      <td>acoustic</td>\n",
              "    </tr>\n",
              "    <tr>\n",
              "      <th>1</th>\n",
              "      <td>1</td>\n",
              "      <td>4qPNDBW1i3p13qLCt0Ki3A</td>\n",
              "      <td>Ben Woodward</td>\n",
              "      <td>Ghost (Acoustic)</td>\n",
              "      <td>Ghost - Acoustic</td>\n",
              "      <td>55</td>\n",
              "      <td>149610</td>\n",
              "      <td>False</td>\n",
              "      <td>0.420</td>\n",
              "      <td>0.1660</td>\n",
              "      <td>...</td>\n",
              "      <td>-17.235</td>\n",
              "      <td>1</td>\n",
              "      <td>0.0763</td>\n",
              "      <td>0.9240</td>\n",
              "      <td>0.000006</td>\n",
              "      <td>0.1010</td>\n",
              "      <td>0.267</td>\n",
              "      <td>77.489</td>\n",
              "      <td>4</td>\n",
              "      <td>acoustic</td>\n",
              "    </tr>\n",
              "    <tr>\n",
              "      <th>2</th>\n",
              "      <td>2</td>\n",
              "      <td>1iJBSr7s7jYXzM8EGcbK5b</td>\n",
              "      <td>Ingrid Michaelson;ZAYN</td>\n",
              "      <td>To Begin Again</td>\n",
              "      <td>To Begin Again</td>\n",
              "      <td>57</td>\n",
              "      <td>210826</td>\n",
              "      <td>False</td>\n",
              "      <td>0.438</td>\n",
              "      <td>0.3590</td>\n",
              "      <td>...</td>\n",
              "      <td>-9.734</td>\n",
              "      <td>1</td>\n",
              "      <td>0.0557</td>\n",
              "      <td>0.2100</td>\n",
              "      <td>0.000000</td>\n",
              "      <td>0.1170</td>\n",
              "      <td>0.120</td>\n",
              "      <td>76.332</td>\n",
              "      <td>4</td>\n",
              "      <td>acoustic</td>\n",
              "    </tr>\n",
              "    <tr>\n",
              "      <th>3</th>\n",
              "      <td>3</td>\n",
              "      <td>6lfxq3CG4xtTiEg7opyCyx</td>\n",
              "      <td>Kina Grannis</td>\n",
              "      <td>Crazy Rich Asians (Original Motion Picture Sou...</td>\n",
              "      <td>Can't Help Falling In Love</td>\n",
              "      <td>71</td>\n",
              "      <td>201933</td>\n",
              "      <td>False</td>\n",
              "      <td>0.266</td>\n",
              "      <td>0.0596</td>\n",
              "      <td>...</td>\n",
              "      <td>-18.515</td>\n",
              "      <td>1</td>\n",
              "      <td>0.0363</td>\n",
              "      <td>0.9050</td>\n",
              "      <td>0.000071</td>\n",
              "      <td>0.1320</td>\n",
              "      <td>0.143</td>\n",
              "      <td>181.740</td>\n",
              "      <td>3</td>\n",
              "      <td>acoustic</td>\n",
              "    </tr>\n",
              "    <tr>\n",
              "      <th>4</th>\n",
              "      <td>4</td>\n",
              "      <td>5vjLSffimiIP26QG5WcN2K</td>\n",
              "      <td>Chord Overstreet</td>\n",
              "      <td>Hold On</td>\n",
              "      <td>Hold On</td>\n",
              "      <td>82</td>\n",
              "      <td>198853</td>\n",
              "      <td>False</td>\n",
              "      <td>0.618</td>\n",
              "      <td>0.4430</td>\n",
              "      <td>...</td>\n",
              "      <td>-9.681</td>\n",
              "      <td>1</td>\n",
              "      <td>0.0526</td>\n",
              "      <td>0.4690</td>\n",
              "      <td>0.000000</td>\n",
              "      <td>0.0829</td>\n",
              "      <td>0.167</td>\n",
              "      <td>119.949</td>\n",
              "      <td>4</td>\n",
              "      <td>acoustic</td>\n",
              "    </tr>\n",
              "  </tbody>\n",
              "</table>\n",
              "<p>5 rows × 21 columns</p>\n",
              "</div>\n",
              "      <button class=\"colab-df-convert\" onclick=\"convertToInteractive('df-6ea7cdcc-64ca-48fa-be0e-306eb9aee9ba')\"\n",
              "              title=\"Convert this dataframe to an interactive table.\"\n",
              "              style=\"display:none;\">\n",
              "        \n",
              "  <svg xmlns=\"http://www.w3.org/2000/svg\" height=\"24px\"viewBox=\"0 0 24 24\"\n",
              "       width=\"24px\">\n",
              "    <path d=\"M0 0h24v24H0V0z\" fill=\"none\"/>\n",
              "    <path d=\"M18.56 5.44l.94 2.06.94-2.06 2.06-.94-2.06-.94-.94-2.06-.94 2.06-2.06.94zm-11 1L8.5 8.5l.94-2.06 2.06-.94-2.06-.94L8.5 2.5l-.94 2.06-2.06.94zm10 10l.94 2.06.94-2.06 2.06-.94-2.06-.94-.94-2.06-.94 2.06-2.06.94z\"/><path d=\"M17.41 7.96l-1.37-1.37c-.4-.4-.92-.59-1.43-.59-.52 0-1.04.2-1.43.59L10.3 9.45l-7.72 7.72c-.78.78-.78 2.05 0 2.83L4 21.41c.39.39.9.59 1.41.59.51 0 1.02-.2 1.41-.59l7.78-7.78 2.81-2.81c.8-.78.8-2.07 0-2.86zM5.41 20L4 18.59l7.72-7.72 1.47 1.35L5.41 20z\"/>\n",
              "  </svg>\n",
              "      </button>\n",
              "      \n",
              "  <style>\n",
              "    .colab-df-container {\n",
              "      display:flex;\n",
              "      flex-wrap:wrap;\n",
              "      gap: 12px;\n",
              "    }\n",
              "\n",
              "    .colab-df-convert {\n",
              "      background-color: #E8F0FE;\n",
              "      border: none;\n",
              "      border-radius: 50%;\n",
              "      cursor: pointer;\n",
              "      display: none;\n",
              "      fill: #1967D2;\n",
              "      height: 32px;\n",
              "      padding: 0 0 0 0;\n",
              "      width: 32px;\n",
              "    }\n",
              "\n",
              "    .colab-df-convert:hover {\n",
              "      background-color: #E2EBFA;\n",
              "      box-shadow: 0px 1px 2px rgba(60, 64, 67, 0.3), 0px 1px 3px 1px rgba(60, 64, 67, 0.15);\n",
              "      fill: #174EA6;\n",
              "    }\n",
              "\n",
              "    [theme=dark] .colab-df-convert {\n",
              "      background-color: #3B4455;\n",
              "      fill: #D2E3FC;\n",
              "    }\n",
              "\n",
              "    [theme=dark] .colab-df-convert:hover {\n",
              "      background-color: #434B5C;\n",
              "      box-shadow: 0px 1px 3px 1px rgba(0, 0, 0, 0.15);\n",
              "      filter: drop-shadow(0px 1px 2px rgba(0, 0, 0, 0.3));\n",
              "      fill: #FFFFFF;\n",
              "    }\n",
              "  </style>\n",
              "\n",
              "      <script>\n",
              "        const buttonEl =\n",
              "          document.querySelector('#df-6ea7cdcc-64ca-48fa-be0e-306eb9aee9ba button.colab-df-convert');\n",
              "        buttonEl.style.display =\n",
              "          google.colab.kernel.accessAllowed ? 'block' : 'none';\n",
              "\n",
              "        async function convertToInteractive(key) {\n",
              "          const element = document.querySelector('#df-6ea7cdcc-64ca-48fa-be0e-306eb9aee9ba');\n",
              "          const dataTable =\n",
              "            await google.colab.kernel.invokeFunction('convertToInteractive',\n",
              "                                                     [key], {});\n",
              "          if (!dataTable) return;\n",
              "\n",
              "          const docLinkHtml = 'Like what you see? Visit the ' +\n",
              "            '<a target=\"_blank\" href=https://colab.research.google.com/notebooks/data_table.ipynb>data table notebook</a>'\n",
              "            + ' to learn more about interactive tables.';\n",
              "          element.innerHTML = '';\n",
              "          dataTable['output_type'] = 'display_data';\n",
              "          await google.colab.output.renderOutput(dataTable, element);\n",
              "          const docLink = document.createElement('div');\n",
              "          docLink.innerHTML = docLinkHtml;\n",
              "          element.appendChild(docLink);\n",
              "        }\n",
              "      </script>\n",
              "    </div>\n",
              "  </div>\n",
              "  "
            ]
          },
          "metadata": {},
          "execution_count": 4
        }
      ]
    },
    {
      "cell_type": "code",
      "source": [
        "# Dropping unnecessary columns\n",
        "\n",
        "data.drop(\"Unnamed: 0\", inplace=True, axis=1)"
      ],
      "metadata": {
        "id": "nd3mhOecCi5F"
      },
      "execution_count": null,
      "outputs": []
    },
    {
      "cell_type": "code",
      "source": [
        "# Columns/ Feature names\n",
        "\n",
        "data.columns"
      ],
      "metadata": {
        "colab": {
          "base_uri": "https://localhost:8080/"
        },
        "id": "keSmgcVYCq6H",
        "outputId": "a3c43d10-2df4-4726-85ac-d7d883165b4a"
      },
      "execution_count": null,
      "outputs": [
        {
          "output_type": "execute_result",
          "data": {
            "text/plain": [
              "Index(['track_id', 'artists', 'album_name', 'track_name', 'popularity',\n",
              "       'duration_ms', 'explicit', 'danceability', 'energy', 'key', 'loudness',\n",
              "       'mode', 'speechiness', 'acousticness', 'instrumentalness', 'liveness',\n",
              "       'valence', 'tempo', 'time_signature', 'track_genre'],\n",
              "      dtype='object')"
            ]
          },
          "metadata": {},
          "execution_count": 6
        }
      ]
    },
    {
      "cell_type": "code",
      "source": [
        "# Data description \n",
        "\n",
        "data.describe()"
      ],
      "metadata": {
        "colab": {
          "base_uri": "https://localhost:8080/",
          "height": 361
        },
        "id": "Sa4BbG4jDFvb",
        "outputId": "a3c9e49f-ea7b-4d52-a39e-6c9d392d9a08"
      },
      "execution_count": null,
      "outputs": [
        {
          "output_type": "execute_result",
          "data": {
            "text/plain": [
              "          popularity   duration_ms   danceability         energy  \\\n",
              "count  114000.000000  1.140000e+05  114000.000000  114000.000000   \n",
              "mean       33.238535  2.280292e+05       0.566800       0.641383   \n",
              "std        22.305078  1.072977e+05       0.173542       0.251529   \n",
              "min         0.000000  0.000000e+00       0.000000       0.000000   \n",
              "25%        17.000000  1.740660e+05       0.456000       0.472000   \n",
              "50%        35.000000  2.129060e+05       0.580000       0.685000   \n",
              "75%        50.000000  2.615060e+05       0.695000       0.854000   \n",
              "max       100.000000  5.237295e+06       0.985000       1.000000   \n",
              "\n",
              "                 key       loudness           mode    speechiness  \\\n",
              "count  114000.000000  114000.000000  114000.000000  114000.000000   \n",
              "mean        5.309140      -8.258960       0.637553       0.084652   \n",
              "std         3.559987       5.029337       0.480709       0.105732   \n",
              "min         0.000000     -49.531000       0.000000       0.000000   \n",
              "25%         2.000000     -10.013000       0.000000       0.035900   \n",
              "50%         5.000000      -7.004000       1.000000       0.048900   \n",
              "75%         8.000000      -5.003000       1.000000       0.084500   \n",
              "max        11.000000       4.532000       1.000000       0.965000   \n",
              "\n",
              "        acousticness  instrumentalness       liveness        valence  \\\n",
              "count  114000.000000     114000.000000  114000.000000  114000.000000   \n",
              "mean        0.314910          0.156050       0.213553       0.474068   \n",
              "std         0.332523          0.309555       0.190378       0.259261   \n",
              "min         0.000000          0.000000       0.000000       0.000000   \n",
              "25%         0.016900          0.000000       0.098000       0.260000   \n",
              "50%         0.169000          0.000042       0.132000       0.464000   \n",
              "75%         0.598000          0.049000       0.273000       0.683000   \n",
              "max         0.996000          1.000000       1.000000       0.995000   \n",
              "\n",
              "               tempo  time_signature  \n",
              "count  114000.000000   114000.000000  \n",
              "mean      122.147837        3.904035  \n",
              "std        29.978197        0.432621  \n",
              "min         0.000000        0.000000  \n",
              "25%        99.218750        4.000000  \n",
              "50%       122.017000        4.000000  \n",
              "75%       140.071000        4.000000  \n",
              "max       243.372000        5.000000  "
            ],
            "text/html": [
              "\n",
              "  <div id=\"df-6183db45-5a36-46c7-b084-28aa527a2003\">\n",
              "    <div class=\"colab-df-container\">\n",
              "      <div>\n",
              "<style scoped>\n",
              "    .dataframe tbody tr th:only-of-type {\n",
              "        vertical-align: middle;\n",
              "    }\n",
              "\n",
              "    .dataframe tbody tr th {\n",
              "        vertical-align: top;\n",
              "    }\n",
              "\n",
              "    .dataframe thead th {\n",
              "        text-align: right;\n",
              "    }\n",
              "</style>\n",
              "<table border=\"1\" class=\"dataframe\">\n",
              "  <thead>\n",
              "    <tr style=\"text-align: right;\">\n",
              "      <th></th>\n",
              "      <th>popularity</th>\n",
              "      <th>duration_ms</th>\n",
              "      <th>danceability</th>\n",
              "      <th>energy</th>\n",
              "      <th>key</th>\n",
              "      <th>loudness</th>\n",
              "      <th>mode</th>\n",
              "      <th>speechiness</th>\n",
              "      <th>acousticness</th>\n",
              "      <th>instrumentalness</th>\n",
              "      <th>liveness</th>\n",
              "      <th>valence</th>\n",
              "      <th>tempo</th>\n",
              "      <th>time_signature</th>\n",
              "    </tr>\n",
              "  </thead>\n",
              "  <tbody>\n",
              "    <tr>\n",
              "      <th>count</th>\n",
              "      <td>114000.000000</td>\n",
              "      <td>1.140000e+05</td>\n",
              "      <td>114000.000000</td>\n",
              "      <td>114000.000000</td>\n",
              "      <td>114000.000000</td>\n",
              "      <td>114000.000000</td>\n",
              "      <td>114000.000000</td>\n",
              "      <td>114000.000000</td>\n",
              "      <td>114000.000000</td>\n",
              "      <td>114000.000000</td>\n",
              "      <td>114000.000000</td>\n",
              "      <td>114000.000000</td>\n",
              "      <td>114000.000000</td>\n",
              "      <td>114000.000000</td>\n",
              "    </tr>\n",
              "    <tr>\n",
              "      <th>mean</th>\n",
              "      <td>33.238535</td>\n",
              "      <td>2.280292e+05</td>\n",
              "      <td>0.566800</td>\n",
              "      <td>0.641383</td>\n",
              "      <td>5.309140</td>\n",
              "      <td>-8.258960</td>\n",
              "      <td>0.637553</td>\n",
              "      <td>0.084652</td>\n",
              "      <td>0.314910</td>\n",
              "      <td>0.156050</td>\n",
              "      <td>0.213553</td>\n",
              "      <td>0.474068</td>\n",
              "      <td>122.147837</td>\n",
              "      <td>3.904035</td>\n",
              "    </tr>\n",
              "    <tr>\n",
              "      <th>std</th>\n",
              "      <td>22.305078</td>\n",
              "      <td>1.072977e+05</td>\n",
              "      <td>0.173542</td>\n",
              "      <td>0.251529</td>\n",
              "      <td>3.559987</td>\n",
              "      <td>5.029337</td>\n",
              "      <td>0.480709</td>\n",
              "      <td>0.105732</td>\n",
              "      <td>0.332523</td>\n",
              "      <td>0.309555</td>\n",
              "      <td>0.190378</td>\n",
              "      <td>0.259261</td>\n",
              "      <td>29.978197</td>\n",
              "      <td>0.432621</td>\n",
              "    </tr>\n",
              "    <tr>\n",
              "      <th>min</th>\n",
              "      <td>0.000000</td>\n",
              "      <td>0.000000e+00</td>\n",
              "      <td>0.000000</td>\n",
              "      <td>0.000000</td>\n",
              "      <td>0.000000</td>\n",
              "      <td>-49.531000</td>\n",
              "      <td>0.000000</td>\n",
              "      <td>0.000000</td>\n",
              "      <td>0.000000</td>\n",
              "      <td>0.000000</td>\n",
              "      <td>0.000000</td>\n",
              "      <td>0.000000</td>\n",
              "      <td>0.000000</td>\n",
              "      <td>0.000000</td>\n",
              "    </tr>\n",
              "    <tr>\n",
              "      <th>25%</th>\n",
              "      <td>17.000000</td>\n",
              "      <td>1.740660e+05</td>\n",
              "      <td>0.456000</td>\n",
              "      <td>0.472000</td>\n",
              "      <td>2.000000</td>\n",
              "      <td>-10.013000</td>\n",
              "      <td>0.000000</td>\n",
              "      <td>0.035900</td>\n",
              "      <td>0.016900</td>\n",
              "      <td>0.000000</td>\n",
              "      <td>0.098000</td>\n",
              "      <td>0.260000</td>\n",
              "      <td>99.218750</td>\n",
              "      <td>4.000000</td>\n",
              "    </tr>\n",
              "    <tr>\n",
              "      <th>50%</th>\n",
              "      <td>35.000000</td>\n",
              "      <td>2.129060e+05</td>\n",
              "      <td>0.580000</td>\n",
              "      <td>0.685000</td>\n",
              "      <td>5.000000</td>\n",
              "      <td>-7.004000</td>\n",
              "      <td>1.000000</td>\n",
              "      <td>0.048900</td>\n",
              "      <td>0.169000</td>\n",
              "      <td>0.000042</td>\n",
              "      <td>0.132000</td>\n",
              "      <td>0.464000</td>\n",
              "      <td>122.017000</td>\n",
              "      <td>4.000000</td>\n",
              "    </tr>\n",
              "    <tr>\n",
              "      <th>75%</th>\n",
              "      <td>50.000000</td>\n",
              "      <td>2.615060e+05</td>\n",
              "      <td>0.695000</td>\n",
              "      <td>0.854000</td>\n",
              "      <td>8.000000</td>\n",
              "      <td>-5.003000</td>\n",
              "      <td>1.000000</td>\n",
              "      <td>0.084500</td>\n",
              "      <td>0.598000</td>\n",
              "      <td>0.049000</td>\n",
              "      <td>0.273000</td>\n",
              "      <td>0.683000</td>\n",
              "      <td>140.071000</td>\n",
              "      <td>4.000000</td>\n",
              "    </tr>\n",
              "    <tr>\n",
              "      <th>max</th>\n",
              "      <td>100.000000</td>\n",
              "      <td>5.237295e+06</td>\n",
              "      <td>0.985000</td>\n",
              "      <td>1.000000</td>\n",
              "      <td>11.000000</td>\n",
              "      <td>4.532000</td>\n",
              "      <td>1.000000</td>\n",
              "      <td>0.965000</td>\n",
              "      <td>0.996000</td>\n",
              "      <td>1.000000</td>\n",
              "      <td>1.000000</td>\n",
              "      <td>0.995000</td>\n",
              "      <td>243.372000</td>\n",
              "      <td>5.000000</td>\n",
              "    </tr>\n",
              "  </tbody>\n",
              "</table>\n",
              "</div>\n",
              "      <button class=\"colab-df-convert\" onclick=\"convertToInteractive('df-6183db45-5a36-46c7-b084-28aa527a2003')\"\n",
              "              title=\"Convert this dataframe to an interactive table.\"\n",
              "              style=\"display:none;\">\n",
              "        \n",
              "  <svg xmlns=\"http://www.w3.org/2000/svg\" height=\"24px\"viewBox=\"0 0 24 24\"\n",
              "       width=\"24px\">\n",
              "    <path d=\"M0 0h24v24H0V0z\" fill=\"none\"/>\n",
              "    <path d=\"M18.56 5.44l.94 2.06.94-2.06 2.06-.94-2.06-.94-.94-2.06-.94 2.06-2.06.94zm-11 1L8.5 8.5l.94-2.06 2.06-.94-2.06-.94L8.5 2.5l-.94 2.06-2.06.94zm10 10l.94 2.06.94-2.06 2.06-.94-2.06-.94-.94-2.06-.94 2.06-2.06.94z\"/><path d=\"M17.41 7.96l-1.37-1.37c-.4-.4-.92-.59-1.43-.59-.52 0-1.04.2-1.43.59L10.3 9.45l-7.72 7.72c-.78.78-.78 2.05 0 2.83L4 21.41c.39.39.9.59 1.41.59.51 0 1.02-.2 1.41-.59l7.78-7.78 2.81-2.81c.8-.78.8-2.07 0-2.86zM5.41 20L4 18.59l7.72-7.72 1.47 1.35L5.41 20z\"/>\n",
              "  </svg>\n",
              "      </button>\n",
              "      \n",
              "  <style>\n",
              "    .colab-df-container {\n",
              "      display:flex;\n",
              "      flex-wrap:wrap;\n",
              "      gap: 12px;\n",
              "    }\n",
              "\n",
              "    .colab-df-convert {\n",
              "      background-color: #E8F0FE;\n",
              "      border: none;\n",
              "      border-radius: 50%;\n",
              "      cursor: pointer;\n",
              "      display: none;\n",
              "      fill: #1967D2;\n",
              "      height: 32px;\n",
              "      padding: 0 0 0 0;\n",
              "      width: 32px;\n",
              "    }\n",
              "\n",
              "    .colab-df-convert:hover {\n",
              "      background-color: #E2EBFA;\n",
              "      box-shadow: 0px 1px 2px rgba(60, 64, 67, 0.3), 0px 1px 3px 1px rgba(60, 64, 67, 0.15);\n",
              "      fill: #174EA6;\n",
              "    }\n",
              "\n",
              "    [theme=dark] .colab-df-convert {\n",
              "      background-color: #3B4455;\n",
              "      fill: #D2E3FC;\n",
              "    }\n",
              "\n",
              "    [theme=dark] .colab-df-convert:hover {\n",
              "      background-color: #434B5C;\n",
              "      box-shadow: 0px 1px 3px 1px rgba(0, 0, 0, 0.15);\n",
              "      filter: drop-shadow(0px 1px 2px rgba(0, 0, 0, 0.3));\n",
              "      fill: #FFFFFF;\n",
              "    }\n",
              "  </style>\n",
              "\n",
              "      <script>\n",
              "        const buttonEl =\n",
              "          document.querySelector('#df-6183db45-5a36-46c7-b084-28aa527a2003 button.colab-df-convert');\n",
              "        buttonEl.style.display =\n",
              "          google.colab.kernel.accessAllowed ? 'block' : 'none';\n",
              "\n",
              "        async function convertToInteractive(key) {\n",
              "          const element = document.querySelector('#df-6183db45-5a36-46c7-b084-28aa527a2003');\n",
              "          const dataTable =\n",
              "            await google.colab.kernel.invokeFunction('convertToInteractive',\n",
              "                                                     [key], {});\n",
              "          if (!dataTable) return;\n",
              "\n",
              "          const docLinkHtml = 'Like what you see? Visit the ' +\n",
              "            '<a target=\"_blank\" href=https://colab.research.google.com/notebooks/data_table.ipynb>data table notebook</a>'\n",
              "            + ' to learn more about interactive tables.';\n",
              "          element.innerHTML = '';\n",
              "          dataTable['output_type'] = 'display_data';\n",
              "          await google.colab.output.renderOutput(dataTable, element);\n",
              "          const docLink = document.createElement('div');\n",
              "          docLink.innerHTML = docLinkHtml;\n",
              "          element.appendChild(docLink);\n",
              "        }\n",
              "      </script>\n",
              "    </div>\n",
              "  </div>\n",
              "  "
            ]
          },
          "metadata": {},
          "execution_count": 7
        }
      ]
    },
    {
      "cell_type": "code",
      "source": [
        "data.info()"
      ],
      "metadata": {
        "colab": {
          "base_uri": "https://localhost:8080/"
        },
        "id": "IHl2DzBDDc8h",
        "outputId": "6c7c41e0-9da4-456b-f77b-afa74de9fcc2"
      },
      "execution_count": null,
      "outputs": [
        {
          "output_type": "stream",
          "name": "stdout",
          "text": [
            "<class 'pandas.core.frame.DataFrame'>\n",
            "RangeIndex: 114000 entries, 0 to 113999\n",
            "Data columns (total 20 columns):\n",
            " #   Column            Non-Null Count   Dtype  \n",
            "---  ------            --------------   -----  \n",
            " 0   track_id          114000 non-null  object \n",
            " 1   artists           113999 non-null  object \n",
            " 2   album_name        113999 non-null  object \n",
            " 3   track_name        113999 non-null  object \n",
            " 4   popularity        114000 non-null  int64  \n",
            " 5   duration_ms       114000 non-null  int64  \n",
            " 6   explicit          114000 non-null  bool   \n",
            " 7   danceability      114000 non-null  float64\n",
            " 8   energy            114000 non-null  float64\n",
            " 9   key               114000 non-null  int64  \n",
            " 10  loudness          114000 non-null  float64\n",
            " 11  mode              114000 non-null  int64  \n",
            " 12  speechiness       114000 non-null  float64\n",
            " 13  acousticness      114000 non-null  float64\n",
            " 14  instrumentalness  114000 non-null  float64\n",
            " 15  liveness          114000 non-null  float64\n",
            " 16  valence           114000 non-null  float64\n",
            " 17  tempo             114000 non-null  float64\n",
            " 18  time_signature    114000 non-null  int64  \n",
            " 19  track_genre       114000 non-null  object \n",
            "dtypes: bool(1), float64(9), int64(5), object(5)\n",
            "memory usage: 16.6+ MB\n"
          ]
        }
      ]
    },
    {
      "cell_type": "code",
      "source": [
        "data.shape"
      ],
      "metadata": {
        "colab": {
          "base_uri": "https://localhost:8080/"
        },
        "id": "tPbOxA4vDf-w",
        "outputId": "ed474e89-78a6-4b0a-c634-6cb9ddd2a7f6"
      },
      "execution_count": null,
      "outputs": [
        {
          "output_type": "execute_result",
          "data": {
            "text/plain": [
              "(114000, 20)"
            ]
          },
          "metadata": {},
          "execution_count": 9
        }
      ]
    },
    {
      "cell_type": "markdown",
      "source": [
        "### * Let us pick explore about the categorical variables"
      ],
      "metadata": {
        "id": "UcZzKA7HEVsI"
      }
    },
    {
      "cell_type": "code",
      "source": [
        "# Filtering the categorical columns\n",
        "\n",
        "categorical_columns  = []\n",
        "\n",
        "for i in data.columns:\n",
        "  if type(data[i][0]) == str:\n",
        "    categorical_columns.append(i)"
      ],
      "metadata": {
        "id": "mtoEwUtJDie8"
      },
      "execution_count": null,
      "outputs": []
    },
    {
      "cell_type": "code",
      "source": [
        "categorical_columns"
      ],
      "metadata": {
        "colab": {
          "base_uri": "https://localhost:8080/"
        },
        "id": "23EJdsiZFLVk",
        "outputId": "5ff6b6ad-e30f-4656-ec0d-fbd7b5734a98"
      },
      "execution_count": null,
      "outputs": [
        {
          "output_type": "execute_result",
          "data": {
            "text/plain": [
              "['track_id', 'artists', 'album_name', 'track_name', 'track_genre']"
            ]
          },
          "metadata": {},
          "execution_count": 11
        }
      ]
    },
    {
      "cell_type": "code",
      "source": [
        "# First let us check for any missing values\n",
        "\n",
        "for cols in categorical_columns:\n",
        "  if data[cols].isna().any() == True:\n",
        "    print(cols,\" --> Contains missing values\")"
      ],
      "metadata": {
        "colab": {
          "base_uri": "https://localhost:8080/"
        },
        "id": "tmY3mSHmFgXb",
        "outputId": "ec341f12-d4b5-4a8a-c127-8dcc2c7bd4c7"
      },
      "execution_count": null,
      "outputs": [
        {
          "output_type": "stream",
          "name": "stdout",
          "text": [
            "artists  --> Contains missing values\n",
            "album_name  --> Contains missing values\n",
            "track_name  --> Contains missing values\n"
          ]
        }
      ]
    },
    {
      "cell_type": "code",
      "source": [
        "# Exploring the data further for missing values\n",
        "data.isna().sum()"
      ],
      "metadata": {
        "colab": {
          "base_uri": "https://localhost:8080/"
        },
        "id": "HWG5jkbCFl8a",
        "outputId": "cc418dbe-e8bf-45dd-bcee-94c3187b8420"
      },
      "execution_count": null,
      "outputs": [
        {
          "output_type": "execute_result",
          "data": {
            "text/plain": [
              "track_id            0\n",
              "artists             1\n",
              "album_name          1\n",
              "track_name          1\n",
              "popularity          0\n",
              "duration_ms         0\n",
              "explicit            0\n",
              "danceability        0\n",
              "energy              0\n",
              "key                 0\n",
              "loudness            0\n",
              "mode                0\n",
              "speechiness         0\n",
              "acousticness        0\n",
              "instrumentalness    0\n",
              "liveness            0\n",
              "valence             0\n",
              "tempo               0\n",
              "time_signature      0\n",
              "track_genre         0\n",
              "dtype: int64"
            ]
          },
          "metadata": {},
          "execution_count": 13
        }
      ]
    },
    {
      "cell_type": "code",
      "source": [
        "# Since there are only 1 missing value, we can drop those rows/columns\n",
        "\n",
        "data.dropna(inplace=True)"
      ],
      "metadata": {
        "id": "RlAmmLElGQlC"
      },
      "execution_count": null,
      "outputs": []
    },
    {
      "cell_type": "code",
      "source": [
        "data.isna().any()"
      ],
      "metadata": {
        "colab": {
          "base_uri": "https://localhost:8080/"
        },
        "id": "yJrFyeNtGtUy",
        "outputId": "9a1b542f-7faf-403d-cd70-7431c555acdb"
      },
      "execution_count": null,
      "outputs": [
        {
          "output_type": "execute_result",
          "data": {
            "text/plain": [
              "track_id            False\n",
              "artists             False\n",
              "album_name          False\n",
              "track_name          False\n",
              "popularity          False\n",
              "duration_ms         False\n",
              "explicit            False\n",
              "danceability        False\n",
              "energy              False\n",
              "key                 False\n",
              "loudness            False\n",
              "mode                False\n",
              "speechiness         False\n",
              "acousticness        False\n",
              "instrumentalness    False\n",
              "liveness            False\n",
              "valence             False\n",
              "tempo               False\n",
              "time_signature      False\n",
              "track_genre         False\n",
              "dtype: bool"
            ]
          },
          "metadata": {},
          "execution_count": 15
        }
      ]
    },
    {
      "cell_type": "code",
      "source": [
        "print(\"Total data length:\", len(data))\n",
        "\n",
        "for cols in categorical_columns:\n",
        "  length = len(data[cols].value_counts())\n",
        "  print(length, \" is the uniqe value count in\", cols,\"-->\", round((length/len(data))*100,2),\"%\")"
      ],
      "metadata": {
        "colab": {
          "base_uri": "https://localhost:8080/"
        },
        "id": "41Qwc6-EG658",
        "outputId": "eeb55a60-7307-47bf-9cc7-a7c2a1f4f942"
      },
      "execution_count": null,
      "outputs": [
        {
          "output_type": "stream",
          "name": "stdout",
          "text": [
            "Total data length: 113999\n",
            "89740  is the uniqe value count in track_id --> 78.72 %\n",
            "31437  is the uniqe value count in artists --> 27.58 %\n",
            "46589  is the uniqe value count in album_name --> 40.87 %\n",
            "73608  is the uniqe value count in track_name --> 64.57 %\n",
            "114  is the uniqe value count in track_genre --> 0.1 %\n"
          ]
        }
      ]
    },
    {
      "cell_type": "code",
      "source": [
        "# We are going to elimnate the track_id,track_name and album_name because of so many unique values (over 40 percent)\n",
        "\n",
        "# Copy of removed values\n",
        "copy = data[[\"track_id\",\"album_name\",\"track_name\"]]\n",
        "for col in copy.columns:\n",
        "  categorical_columns.remove(col)\n",
        "\n",
        "data.drop([\"track_id\",\"album_name\",\"track_name\"],inplace=True, axis=1)"
      ],
      "metadata": {
        "id": "fNjh1ddHHzfh"
      },
      "execution_count": null,
      "outputs": []
    },
    {
      "cell_type": "code",
      "source": [
        "for col in categorical_columns:\n",
        "  print(col,\"\\n\",data[col].value_counts()[:10],\"\\n\\n\")"
      ],
      "metadata": {
        "colab": {
          "base_uri": "https://localhost:8080/"
        },
        "id": "q6alIVvUJTQV",
        "outputId": "e9d3459c-79b5-45a2-ceac-79ec81466fa6"
      },
      "execution_count": null,
      "outputs": [
        {
          "output_type": "stream",
          "name": "stdout",
          "text": [
            "artists \n",
            " The Beatles        279\n",
            "George Jones       271\n",
            "Stevie Wonder      236\n",
            "Linkin Park        224\n",
            "Ella Fitzgerald    222\n",
            "Prateek Kuhad      217\n",
            "Feid               202\n",
            "Chuck Berry        190\n",
            "Håkan Hellström    183\n",
            "OneRepublic        181\n",
            "Name: artists, dtype: int64 \n",
            "\n",
            "\n",
            "track_genre \n",
            " acoustic             1000\n",
            "afrobeat             1000\n",
            "psych-rock           1000\n",
            "progressive-house    1000\n",
            "power-pop            1000\n",
            "pop                  1000\n",
            "pop-film             1000\n",
            "piano                1000\n",
            "party                1000\n",
            "pagode               1000\n",
            "Name: track_genre, dtype: int64 \n",
            "\n",
            "\n"
          ]
        }
      ]
    },
    {
      "cell_type": "code",
      "source": [
        "data[data['artists'] == \"OneRepublic\"]['track_genre'].value_counts()"
      ],
      "metadata": {
        "colab": {
          "base_uri": "https://localhost:8080/"
        },
        "id": "agsGBs2GKS-6",
        "outputId": "eef102f4-7af5-46f4-a630-1885eaded839"
      },
      "execution_count": null,
      "outputs": [
        {
          "output_type": "execute_result",
          "data": {
            "text/plain": [
              "piano    124\n",
              "rock      55\n",
              "pop        2\n",
              "Name: track_genre, dtype: int64"
            ]
          },
          "metadata": {},
          "execution_count": 19
        }
      ]
    },
    {
      "cell_type": "markdown",
      "source": [
        "We can observe that **One Republic** songs are mostly of the genre **piano**, followed by **rock** and **pop** ∇\n",
        "We will create a list of popular genres for every artist"
      ],
      "metadata": {
        "id": "-pOb2e-JOjZU"
      }
    },
    {
      "cell_type": "code",
      "source": [
        "# Gathering all the unique artist names\n",
        "\n",
        "artists = []\n",
        "\n",
        "for i in data['artists'].value_counts().index:\n",
        "  artists.append(i)"
      ],
      "metadata": {
        "id": "Cjdzf0y4SU_E"
      },
      "execution_count": null,
      "outputs": []
    },
    {
      "cell_type": "markdown",
      "source": [
        "# **DO NOT EXECTUE - EXECUTED FILE SAVED ALREADY** "
      ],
      "metadata": {
        "id": "orjgxodGJiTd"
      }
    },
    {
      "cell_type": "code",
      "source": [
        "# Empty dicitonary to be update with artist and famous genre list. \n",
        "\n",
        "from tqdm import tqdm\n",
        "\n",
        "artists_famous_genre = {}\n",
        "\n",
        "for value in tqdm(artists):\n",
        "  famous_genre = data[data[\"artists\"]==value]['track_genre'].value_counts().index[0]\n",
        "\n",
        "  artists_famous_genre.update({\n",
        "      value : famous_genre\n",
        "  })"
      ],
      "metadata": {
        "id": "n25jxW0cLf94"
      },
      "execution_count": null,
      "outputs": []
    },
    {
      "cell_type": "code",
      "source": [
        "# Saving the dictionary to a csv file \n",
        "\n",
        "artists_genre = pd.DataFrame(artists_famous_genre.values(),artists_famous_genre.keys(), columns=['genre']).reset_index()\n",
        "artists_genre['artists'] = artists_genre[\"index\"]\n",
        "artists_genre.drop(\"index\",axis=1,inplace=True)\n",
        "\n",
        "artists_genre.to_csv(\"artists_famous_genre.csv\")"
      ],
      "metadata": {
        "id": "JF37XISWQtXP"
      },
      "execution_count": null,
      "outputs": []
    },
    {
      "cell_type": "markdown",
      "source": [
        "."
      ],
      "metadata": {
        "id": "hUmfmPKoJx43"
      }
    },
    {
      "cell_type": "markdown",
      "source": [
        "## NUMERICAL DATA ANALYSIS"
      ],
      "metadata": {
        "id": "GMcDhzebO0Wd"
      }
    },
    {
      "cell_type": "code",
      "source": [
        "numerical_columns = []\n",
        "\n",
        "for i in data.columns:\n",
        "  if i not in categorical_columns:\n",
        "    numerical_columns.append(i)"
      ],
      "metadata": {
        "id": "xVGJxfGKWHa1"
      },
      "execution_count": null,
      "outputs": []
    },
    {
      "cell_type": "code",
      "source": [
        "# Correlation matrix \n",
        "\n",
        "data.corr()"
      ],
      "metadata": {
        "colab": {
          "base_uri": "https://localhost:8080/",
          "height": 578
        },
        "id": "pFAI9qqwPCdw",
        "outputId": "1570c249-3169-4f72-996e-ea5203e997e6"
      },
      "execution_count": null,
      "outputs": [
        {
          "output_type": "execute_result",
          "data": {
            "text/plain": [
              "                  popularity  duration_ms  explicit  danceability    energy  \\\n",
              "popularity          1.000000    -0.007129  0.044078      0.035444  0.001053   \n",
              "duration_ms        -0.007129     1.000000 -0.065270     -0.073435  0.058520   \n",
              "explicit            0.044078    -0.065270  1.000000      0.122506  0.096954   \n",
              "danceability        0.035444    -0.073435  0.122506      1.000000  0.134325   \n",
              "energy              0.001053     0.058520  0.096954      0.134325  1.000000   \n",
              "key                -0.003847     0.008123  0.004485      0.036470  0.048007   \n",
              "loudness            0.050420    -0.003475  0.108587      0.259076  0.761690   \n",
              "mode               -0.013948    -0.035581 -0.037216     -0.069224 -0.078365   \n",
              "speechiness        -0.044930    -0.062605  0.307951      0.108625  0.142508   \n",
              "acousticness       -0.025458    -0.103770 -0.094400     -0.171531 -0.733908   \n",
              "instrumentalness   -0.095147     0.124364 -0.103405     -0.185608 -0.181880   \n",
              "liveness           -0.005397     0.010308  0.032547     -0.131620  0.184795   \n",
              "valence            -0.040522    -0.154464 -0.003378      0.477347  0.258937   \n",
              "tempo               0.013212     0.024356 -0.002815     -0.050448  0.247852   \n",
              "time_signature      0.031076     0.018229  0.038387      0.207219  0.187127   \n",
              "\n",
              "                       key  loudness      mode  speechiness  acousticness  \\\n",
              "popularity       -0.003847  0.050420 -0.013948    -0.044930     -0.025458   \n",
              "duration_ms       0.008123 -0.003475 -0.035581    -0.062605     -0.103770   \n",
              "explicit          0.004485  0.108587 -0.037216     0.307951     -0.094400   \n",
              "danceability      0.036470  0.259076 -0.069224     0.108625     -0.171531   \n",
              "energy            0.048007  0.761690 -0.078365     0.142508     -0.733908   \n",
              "key               1.000000  0.038591 -0.135911     0.020419     -0.040942   \n",
              "loudness          0.038591  1.000000 -0.041768     0.060826     -0.589804   \n",
              "mode             -0.135911 -0.041768  1.000000    -0.046535      0.095568   \n",
              "speechiness       0.020419  0.060826 -0.046535     1.000000     -0.002184   \n",
              "acousticness     -0.040942 -0.589804  0.095568    -0.002184      1.000000   \n",
              "instrumentalness -0.006821 -0.433478 -0.049961    -0.089617      0.104033   \n",
              "liveness         -0.001597  0.076897  0.014004     0.205218     -0.020693   \n",
              "valence           0.034099  0.279851  0.021964     0.036637     -0.107081   \n",
              "tempo             0.010914  0.212447  0.000572     0.017274     -0.208231   \n",
              "time_signature    0.015064  0.191992 -0.024090    -0.000011     -0.176142   \n",
              "\n",
              "                  instrumentalness  liveness   valence     tempo  \\\n",
              "popularity               -0.095147 -0.005397 -0.040522  0.013212   \n",
              "duration_ms               0.124364  0.010308 -0.154464  0.024356   \n",
              "explicit                 -0.103405  0.032547 -0.003378 -0.002815   \n",
              "danceability             -0.185608 -0.131620  0.477347 -0.050448   \n",
              "energy                   -0.181880  0.184795  0.258937  0.247852   \n",
              "key                      -0.006821 -0.001597  0.034099  0.010914   \n",
              "loudness                 -0.433478  0.076897  0.279851  0.212447   \n",
              "mode                     -0.049961  0.014004  0.021964  0.000572   \n",
              "speechiness              -0.089617  0.205218  0.036637  0.017274   \n",
              "acousticness              0.104033 -0.020693 -0.107081 -0.208231   \n",
              "instrumentalness          1.000000 -0.079896 -0.324310 -0.050328   \n",
              "liveness                 -0.079896  1.000000  0.019093  0.000603   \n",
              "valence                  -0.324310  0.019093  1.000000  0.078269   \n",
              "tempo                    -0.050328  0.000603  0.078269  1.000000   \n",
              "time_signature           -0.082580 -0.023649  0.133685  0.066640   \n",
              "\n",
              "                  time_signature  \n",
              "popularity              0.031076  \n",
              "duration_ms             0.018229  \n",
              "explicit                0.038387  \n",
              "danceability            0.207219  \n",
              "energy                  0.187127  \n",
              "key                     0.015064  \n",
              "loudness                0.191992  \n",
              "mode                   -0.024090  \n",
              "speechiness            -0.000011  \n",
              "acousticness           -0.176142  \n",
              "instrumentalness       -0.082580  \n",
              "liveness               -0.023649  \n",
              "valence                 0.133685  \n",
              "tempo                   0.066640  \n",
              "time_signature          1.000000  "
            ],
            "text/html": [
              "\n",
              "  <div id=\"df-989d4ab8-fc95-452b-8110-c8c78512adbc\">\n",
              "    <div class=\"colab-df-container\">\n",
              "      <div>\n",
              "<style scoped>\n",
              "    .dataframe tbody tr th:only-of-type {\n",
              "        vertical-align: middle;\n",
              "    }\n",
              "\n",
              "    .dataframe tbody tr th {\n",
              "        vertical-align: top;\n",
              "    }\n",
              "\n",
              "    .dataframe thead th {\n",
              "        text-align: right;\n",
              "    }\n",
              "</style>\n",
              "<table border=\"1\" class=\"dataframe\">\n",
              "  <thead>\n",
              "    <tr style=\"text-align: right;\">\n",
              "      <th></th>\n",
              "      <th>popularity</th>\n",
              "      <th>duration_ms</th>\n",
              "      <th>explicit</th>\n",
              "      <th>danceability</th>\n",
              "      <th>energy</th>\n",
              "      <th>key</th>\n",
              "      <th>loudness</th>\n",
              "      <th>mode</th>\n",
              "      <th>speechiness</th>\n",
              "      <th>acousticness</th>\n",
              "      <th>instrumentalness</th>\n",
              "      <th>liveness</th>\n",
              "      <th>valence</th>\n",
              "      <th>tempo</th>\n",
              "      <th>time_signature</th>\n",
              "    </tr>\n",
              "  </thead>\n",
              "  <tbody>\n",
              "    <tr>\n",
              "      <th>popularity</th>\n",
              "      <td>1.000000</td>\n",
              "      <td>-0.007129</td>\n",
              "      <td>0.044078</td>\n",
              "      <td>0.035444</td>\n",
              "      <td>0.001053</td>\n",
              "      <td>-0.003847</td>\n",
              "      <td>0.050420</td>\n",
              "      <td>-0.013948</td>\n",
              "      <td>-0.044930</td>\n",
              "      <td>-0.025458</td>\n",
              "      <td>-0.095147</td>\n",
              "      <td>-0.005397</td>\n",
              "      <td>-0.040522</td>\n",
              "      <td>0.013212</td>\n",
              "      <td>0.031076</td>\n",
              "    </tr>\n",
              "    <tr>\n",
              "      <th>duration_ms</th>\n",
              "      <td>-0.007129</td>\n",
              "      <td>1.000000</td>\n",
              "      <td>-0.065270</td>\n",
              "      <td>-0.073435</td>\n",
              "      <td>0.058520</td>\n",
              "      <td>0.008123</td>\n",
              "      <td>-0.003475</td>\n",
              "      <td>-0.035581</td>\n",
              "      <td>-0.062605</td>\n",
              "      <td>-0.103770</td>\n",
              "      <td>0.124364</td>\n",
              "      <td>0.010308</td>\n",
              "      <td>-0.154464</td>\n",
              "      <td>0.024356</td>\n",
              "      <td>0.018229</td>\n",
              "    </tr>\n",
              "    <tr>\n",
              "      <th>explicit</th>\n",
              "      <td>0.044078</td>\n",
              "      <td>-0.065270</td>\n",
              "      <td>1.000000</td>\n",
              "      <td>0.122506</td>\n",
              "      <td>0.096954</td>\n",
              "      <td>0.004485</td>\n",
              "      <td>0.108587</td>\n",
              "      <td>-0.037216</td>\n",
              "      <td>0.307951</td>\n",
              "      <td>-0.094400</td>\n",
              "      <td>-0.103405</td>\n",
              "      <td>0.032547</td>\n",
              "      <td>-0.003378</td>\n",
              "      <td>-0.002815</td>\n",
              "      <td>0.038387</td>\n",
              "    </tr>\n",
              "    <tr>\n",
              "      <th>danceability</th>\n",
              "      <td>0.035444</td>\n",
              "      <td>-0.073435</td>\n",
              "      <td>0.122506</td>\n",
              "      <td>1.000000</td>\n",
              "      <td>0.134325</td>\n",
              "      <td>0.036470</td>\n",
              "      <td>0.259076</td>\n",
              "      <td>-0.069224</td>\n",
              "      <td>0.108625</td>\n",
              "      <td>-0.171531</td>\n",
              "      <td>-0.185608</td>\n",
              "      <td>-0.131620</td>\n",
              "      <td>0.477347</td>\n",
              "      <td>-0.050448</td>\n",
              "      <td>0.207219</td>\n",
              "    </tr>\n",
              "    <tr>\n",
              "      <th>energy</th>\n",
              "      <td>0.001053</td>\n",
              "      <td>0.058520</td>\n",
              "      <td>0.096954</td>\n",
              "      <td>0.134325</td>\n",
              "      <td>1.000000</td>\n",
              "      <td>0.048007</td>\n",
              "      <td>0.761690</td>\n",
              "      <td>-0.078365</td>\n",
              "      <td>0.142508</td>\n",
              "      <td>-0.733908</td>\n",
              "      <td>-0.181880</td>\n",
              "      <td>0.184795</td>\n",
              "      <td>0.258937</td>\n",
              "      <td>0.247852</td>\n",
              "      <td>0.187127</td>\n",
              "    </tr>\n",
              "    <tr>\n",
              "      <th>key</th>\n",
              "      <td>-0.003847</td>\n",
              "      <td>0.008123</td>\n",
              "      <td>0.004485</td>\n",
              "      <td>0.036470</td>\n",
              "      <td>0.048007</td>\n",
              "      <td>1.000000</td>\n",
              "      <td>0.038591</td>\n",
              "      <td>-0.135911</td>\n",
              "      <td>0.020419</td>\n",
              "      <td>-0.040942</td>\n",
              "      <td>-0.006821</td>\n",
              "      <td>-0.001597</td>\n",
              "      <td>0.034099</td>\n",
              "      <td>0.010914</td>\n",
              "      <td>0.015064</td>\n",
              "    </tr>\n",
              "    <tr>\n",
              "      <th>loudness</th>\n",
              "      <td>0.050420</td>\n",
              "      <td>-0.003475</td>\n",
              "      <td>0.108587</td>\n",
              "      <td>0.259076</td>\n",
              "      <td>0.761690</td>\n",
              "      <td>0.038591</td>\n",
              "      <td>1.000000</td>\n",
              "      <td>-0.041768</td>\n",
              "      <td>0.060826</td>\n",
              "      <td>-0.589804</td>\n",
              "      <td>-0.433478</td>\n",
              "      <td>0.076897</td>\n",
              "      <td>0.279851</td>\n",
              "      <td>0.212447</td>\n",
              "      <td>0.191992</td>\n",
              "    </tr>\n",
              "    <tr>\n",
              "      <th>mode</th>\n",
              "      <td>-0.013948</td>\n",
              "      <td>-0.035581</td>\n",
              "      <td>-0.037216</td>\n",
              "      <td>-0.069224</td>\n",
              "      <td>-0.078365</td>\n",
              "      <td>-0.135911</td>\n",
              "      <td>-0.041768</td>\n",
              "      <td>1.000000</td>\n",
              "      <td>-0.046535</td>\n",
              "      <td>0.095568</td>\n",
              "      <td>-0.049961</td>\n",
              "      <td>0.014004</td>\n",
              "      <td>0.021964</td>\n",
              "      <td>0.000572</td>\n",
              "      <td>-0.024090</td>\n",
              "    </tr>\n",
              "    <tr>\n",
              "      <th>speechiness</th>\n",
              "      <td>-0.044930</td>\n",
              "      <td>-0.062605</td>\n",
              "      <td>0.307951</td>\n",
              "      <td>0.108625</td>\n",
              "      <td>0.142508</td>\n",
              "      <td>0.020419</td>\n",
              "      <td>0.060826</td>\n",
              "      <td>-0.046535</td>\n",
              "      <td>1.000000</td>\n",
              "      <td>-0.002184</td>\n",
              "      <td>-0.089617</td>\n",
              "      <td>0.205218</td>\n",
              "      <td>0.036637</td>\n",
              "      <td>0.017274</td>\n",
              "      <td>-0.000011</td>\n",
              "    </tr>\n",
              "    <tr>\n",
              "      <th>acousticness</th>\n",
              "      <td>-0.025458</td>\n",
              "      <td>-0.103770</td>\n",
              "      <td>-0.094400</td>\n",
              "      <td>-0.171531</td>\n",
              "      <td>-0.733908</td>\n",
              "      <td>-0.040942</td>\n",
              "      <td>-0.589804</td>\n",
              "      <td>0.095568</td>\n",
              "      <td>-0.002184</td>\n",
              "      <td>1.000000</td>\n",
              "      <td>0.104033</td>\n",
              "      <td>-0.020693</td>\n",
              "      <td>-0.107081</td>\n",
              "      <td>-0.208231</td>\n",
              "      <td>-0.176142</td>\n",
              "    </tr>\n",
              "    <tr>\n",
              "      <th>instrumentalness</th>\n",
              "      <td>-0.095147</td>\n",
              "      <td>0.124364</td>\n",
              "      <td>-0.103405</td>\n",
              "      <td>-0.185608</td>\n",
              "      <td>-0.181880</td>\n",
              "      <td>-0.006821</td>\n",
              "      <td>-0.433478</td>\n",
              "      <td>-0.049961</td>\n",
              "      <td>-0.089617</td>\n",
              "      <td>0.104033</td>\n",
              "      <td>1.000000</td>\n",
              "      <td>-0.079896</td>\n",
              "      <td>-0.324310</td>\n",
              "      <td>-0.050328</td>\n",
              "      <td>-0.082580</td>\n",
              "    </tr>\n",
              "    <tr>\n",
              "      <th>liveness</th>\n",
              "      <td>-0.005397</td>\n",
              "      <td>0.010308</td>\n",
              "      <td>0.032547</td>\n",
              "      <td>-0.131620</td>\n",
              "      <td>0.184795</td>\n",
              "      <td>-0.001597</td>\n",
              "      <td>0.076897</td>\n",
              "      <td>0.014004</td>\n",
              "      <td>0.205218</td>\n",
              "      <td>-0.020693</td>\n",
              "      <td>-0.079896</td>\n",
              "      <td>1.000000</td>\n",
              "      <td>0.019093</td>\n",
              "      <td>0.000603</td>\n",
              "      <td>-0.023649</td>\n",
              "    </tr>\n",
              "    <tr>\n",
              "      <th>valence</th>\n",
              "      <td>-0.040522</td>\n",
              "      <td>-0.154464</td>\n",
              "      <td>-0.003378</td>\n",
              "      <td>0.477347</td>\n",
              "      <td>0.258937</td>\n",
              "      <td>0.034099</td>\n",
              "      <td>0.279851</td>\n",
              "      <td>0.021964</td>\n",
              "      <td>0.036637</td>\n",
              "      <td>-0.107081</td>\n",
              "      <td>-0.324310</td>\n",
              "      <td>0.019093</td>\n",
              "      <td>1.000000</td>\n",
              "      <td>0.078269</td>\n",
              "      <td>0.133685</td>\n",
              "    </tr>\n",
              "    <tr>\n",
              "      <th>tempo</th>\n",
              "      <td>0.013212</td>\n",
              "      <td>0.024356</td>\n",
              "      <td>-0.002815</td>\n",
              "      <td>-0.050448</td>\n",
              "      <td>0.247852</td>\n",
              "      <td>0.010914</td>\n",
              "      <td>0.212447</td>\n",
              "      <td>0.000572</td>\n",
              "      <td>0.017274</td>\n",
              "      <td>-0.208231</td>\n",
              "      <td>-0.050328</td>\n",
              "      <td>0.000603</td>\n",
              "      <td>0.078269</td>\n",
              "      <td>1.000000</td>\n",
              "      <td>0.066640</td>\n",
              "    </tr>\n",
              "    <tr>\n",
              "      <th>time_signature</th>\n",
              "      <td>0.031076</td>\n",
              "      <td>0.018229</td>\n",
              "      <td>0.038387</td>\n",
              "      <td>0.207219</td>\n",
              "      <td>0.187127</td>\n",
              "      <td>0.015064</td>\n",
              "      <td>0.191992</td>\n",
              "      <td>-0.024090</td>\n",
              "      <td>-0.000011</td>\n",
              "      <td>-0.176142</td>\n",
              "      <td>-0.082580</td>\n",
              "      <td>-0.023649</td>\n",
              "      <td>0.133685</td>\n",
              "      <td>0.066640</td>\n",
              "      <td>1.000000</td>\n",
              "    </tr>\n",
              "  </tbody>\n",
              "</table>\n",
              "</div>\n",
              "      <button class=\"colab-df-convert\" onclick=\"convertToInteractive('df-989d4ab8-fc95-452b-8110-c8c78512adbc')\"\n",
              "              title=\"Convert this dataframe to an interactive table.\"\n",
              "              style=\"display:none;\">\n",
              "        \n",
              "  <svg xmlns=\"http://www.w3.org/2000/svg\" height=\"24px\"viewBox=\"0 0 24 24\"\n",
              "       width=\"24px\">\n",
              "    <path d=\"M0 0h24v24H0V0z\" fill=\"none\"/>\n",
              "    <path d=\"M18.56 5.44l.94 2.06.94-2.06 2.06-.94-2.06-.94-.94-2.06-.94 2.06-2.06.94zm-11 1L8.5 8.5l.94-2.06 2.06-.94-2.06-.94L8.5 2.5l-.94 2.06-2.06.94zm10 10l.94 2.06.94-2.06 2.06-.94-2.06-.94-.94-2.06-.94 2.06-2.06.94z\"/><path d=\"M17.41 7.96l-1.37-1.37c-.4-.4-.92-.59-1.43-.59-.52 0-1.04.2-1.43.59L10.3 9.45l-7.72 7.72c-.78.78-.78 2.05 0 2.83L4 21.41c.39.39.9.59 1.41.59.51 0 1.02-.2 1.41-.59l7.78-7.78 2.81-2.81c.8-.78.8-2.07 0-2.86zM5.41 20L4 18.59l7.72-7.72 1.47 1.35L5.41 20z\"/>\n",
              "  </svg>\n",
              "      </button>\n",
              "      \n",
              "  <style>\n",
              "    .colab-df-container {\n",
              "      display:flex;\n",
              "      flex-wrap:wrap;\n",
              "      gap: 12px;\n",
              "    }\n",
              "\n",
              "    .colab-df-convert {\n",
              "      background-color: #E8F0FE;\n",
              "      border: none;\n",
              "      border-radius: 50%;\n",
              "      cursor: pointer;\n",
              "      display: none;\n",
              "      fill: #1967D2;\n",
              "      height: 32px;\n",
              "      padding: 0 0 0 0;\n",
              "      width: 32px;\n",
              "    }\n",
              "\n",
              "    .colab-df-convert:hover {\n",
              "      background-color: #E2EBFA;\n",
              "      box-shadow: 0px 1px 2px rgba(60, 64, 67, 0.3), 0px 1px 3px 1px rgba(60, 64, 67, 0.15);\n",
              "      fill: #174EA6;\n",
              "    }\n",
              "\n",
              "    [theme=dark] .colab-df-convert {\n",
              "      background-color: #3B4455;\n",
              "      fill: #D2E3FC;\n",
              "    }\n",
              "\n",
              "    [theme=dark] .colab-df-convert:hover {\n",
              "      background-color: #434B5C;\n",
              "      box-shadow: 0px 1px 3px 1px rgba(0, 0, 0, 0.15);\n",
              "      filter: drop-shadow(0px 1px 2px rgba(0, 0, 0, 0.3));\n",
              "      fill: #FFFFFF;\n",
              "    }\n",
              "  </style>\n",
              "\n",
              "      <script>\n",
              "        const buttonEl =\n",
              "          document.querySelector('#df-989d4ab8-fc95-452b-8110-c8c78512adbc button.colab-df-convert');\n",
              "        buttonEl.style.display =\n",
              "          google.colab.kernel.accessAllowed ? 'block' : 'none';\n",
              "\n",
              "        async function convertToInteractive(key) {\n",
              "          const element = document.querySelector('#df-989d4ab8-fc95-452b-8110-c8c78512adbc');\n",
              "          const dataTable =\n",
              "            await google.colab.kernel.invokeFunction('convertToInteractive',\n",
              "                                                     [key], {});\n",
              "          if (!dataTable) return;\n",
              "\n",
              "          const docLinkHtml = 'Like what you see? Visit the ' +\n",
              "            '<a target=\"_blank\" href=https://colab.research.google.com/notebooks/data_table.ipynb>data table notebook</a>'\n",
              "            + ' to learn more about interactive tables.';\n",
              "          element.innerHTML = '';\n",
              "          dataTable['output_type'] = 'display_data';\n",
              "          await google.colab.output.renderOutput(dataTable, element);\n",
              "          const docLink = document.createElement('div');\n",
              "          docLink.innerHTML = docLinkHtml;\n",
              "          element.appendChild(docLink);\n",
              "        }\n",
              "      </script>\n",
              "    </div>\n",
              "  </div>\n",
              "  "
            ]
          },
          "metadata": {},
          "execution_count": 22
        }
      ]
    },
    {
      "cell_type": "code",
      "source": [
        "# Importing viusalization libraries \n",
        "\n",
        "import matplotlib.pyplot as plt \n",
        "%matplotlib inline \n",
        "\n",
        "import seaborn as sns"
      ],
      "metadata": {
        "id": "L2oZzNwkPD13"
      },
      "execution_count": null,
      "outputs": []
    },
    {
      "cell_type": "code",
      "source": [
        "fig = sns.heatmap(data.corr())"
      ],
      "metadata": {
        "colab": {
          "base_uri": "https://localhost:8080/",
          "height": 346
        },
        "id": "z-LP2HrGPlYm",
        "outputId": "ceed54e4-263e-49ea-e9de-8fafcb449f14"
      },
      "execution_count": null,
      "outputs": [
        {
          "output_type": "display_data",
          "data": {
            "text/plain": [
              "<Figure size 432x288 with 2 Axes>"
            ],
            "image/png": "[encoded data removed]"
          },
          "metadata": {
            "needs_background": "light"
          }
        }
      ]
    },
    {
      "cell_type": "markdown",
      "source": [
        "Well, there are a three columns that gather our interest - acousticness, loudness, energy \n",
        "\n",
        "Let us explore the realation between these models in detail "
      ],
      "metadata": {
        "id": "0plXVCMTQO2D"
      }
    },
    {
      "cell_type": "code",
      "source": [
        "print(\"Correlation matrix --> acousticness and loudness\")\n",
        "print(np.corrcoef(data[\"acousticness\"], data[\"loudness\"]))\n"
      ],
      "metadata": {
        "colab": {
          "base_uri": "https://localhost:8080/"
        },
        "id": "t3BCnR1DPm2k",
        "outputId": "3c2fe343-1f94-4ee0-d05e-a58f57be2bfd"
      },
      "execution_count": null,
      "outputs": [
        {
          "output_type": "stream",
          "name": "stdout",
          "text": [
            "Correlation matrix --> acousticness and loudness\n",
            "[[ 1.         -0.58980374]\n",
            " [-0.58980374  1.        ]]\n"
          ]
        }
      ]
    },
    {
      "cell_type": "code",
      "source": [
        "print(\"Correlation matrix --> acousticness and energy\")\n",
        "print(np.corrcoef(data[\"acousticness\"], data[\"energy\"]))"
      ],
      "metadata": {
        "colab": {
          "base_uri": "https://localhost:8080/"
        },
        "id": "flgEuazRQ0e4",
        "outputId": "4d2f0871-7620-4aa2-a791-e36f62971cfe"
      },
      "execution_count": null,
      "outputs": [
        {
          "output_type": "stream",
          "name": "stdout",
          "text": [
            "Correlation matrix --> acousticness and energy\n",
            "[[ 1.         -0.73390829]\n",
            " [-0.73390829  1.        ]]\n"
          ]
        }
      ]
    },
    {
      "cell_type": "code",
      "source": [
        "plt.plot(data[\"acousticness\"], data[\"energy\"])\n",
        "plt.figure(figsize=(10,15))\n",
        "plt.show() \n",
        "\n",
        "# This graph shows us that there is no storng correlation between the features. "
      ],
      "metadata": {
        "colab": {
          "base_uri": "https://localhost:8080/",
          "height": 282
        },
        "id": "X-8VGDeYRUxl",
        "outputId": "1e2c8449-39ba-4ff6-a61d-50fbb911258b"
      },
      "execution_count": null,
      "outputs": [
        {
          "output_type": "display_data",
          "data": {
            "text/plain": [
              "<Figure size 432x288 with 1 Axes>"
            ],
            "image/png": "[encoded data removed]"
          },
          "metadata": {
            "needs_background": "light"
          }
        },
        {
          "output_type": "display_data",
          "data": {
            "text/plain": [
              "<Figure size 720x1080 with 0 Axes>"
            ]
          },
          "metadata": {}
        }
      ]
    },
    {
      "cell_type": "code",
      "source": [
        "\"\"\"\n",
        "# Let us categorise the popularity variable and perform some analysis\n",
        "\n",
        "data[\"popular\"] = data[\"popularity\"]\n",
        "\n",
        "\n",
        "indexes = data[data[\"popular\"]>=50][\"popular\"].index\n",
        "indexes2 = data[data[\"popular\"]<50][\"popular\"].index\n",
        "\n",
        "for i in indexes:\n",
        "  data.iloc[i,len(data.columns)-1] = \"Yes\"\n",
        "for i in indexes2:\n",
        "  data.iloc[i,len(data.columns)-1] = \"No\"\n",
        "\n",
        "  \"\"\""
      ],
      "metadata": {
        "colab": {
          "base_uri": "https://localhost:8080/",
          "height": 71
        },
        "id": "Es3fPvxrVAWC",
        "outputId": "f00b897d-415d-49fa-b182-ff079b9462ad"
      },
      "execution_count": null,
      "outputs": [
        {
          "output_type": "execute_result",
          "data": {
            "text/plain": [
              "'\\n# Let us categorise the popularity variable and perform some analysis\\n\\ndata[\"popular\"] = data[\"popularity\"]\\n\\n\\nindexes = data[data[\"popular\"]>=50][\"popular\"].index\\nindexes2 = data[data[\"popular\"]<50][\"popular\"].index\\n\\nfor i in indexes:\\n  data.iloc[i,len(data.columns)-1] = \"Yes\"\\nfor i in indexes2:\\n  data.iloc[i,len(data.columns)-1] = \"No\"\\n\\n  '"
            ],
            "application/vnd.google.colaboratory.intrinsic+json": {
              "type": "string"
            }
          },
          "metadata": {},
          "execution_count": 28
        }
      ]
    },
    {
      "cell_type": "code",
      "source": [
        "#sns.scatter(data[][:10000],data[][:10000], hue=data[\"popular\"])"
      ],
      "metadata": {
        "id": "RuRcbCJFXGsq"
      },
      "execution_count": null,
      "outputs": []
    },
    {
      "cell_type": "markdown",
      "source": [
        "## DISTRIBUTION PLOTS (All the numerical variables)"
      ],
      "metadata": {
        "id": "_aVoJ_L2LJs_"
      }
    },
    {
      "cell_type": "code",
      "source": [
        "numerical_columns"
      ],
      "metadata": {
        "colab": {
          "base_uri": "https://localhost:8080/"
        },
        "id": "pFzMKyaILRBr",
        "outputId": "3a070087-1642-4555-93f0-0defb13a4884"
      },
      "execution_count": null,
      "outputs": [
        {
          "output_type": "execute_result",
          "data": {
            "text/plain": [
              "['popularity',\n",
              " 'duration_ms',\n",
              " 'explicit',\n",
              " 'danceability',\n",
              " 'energy',\n",
              " 'key',\n",
              " 'loudness',\n",
              " 'mode',\n",
              " 'speechiness',\n",
              " 'acousticness',\n",
              " 'instrumentalness',\n",
              " 'liveness',\n",
              " 'valence',\n",
              " 'tempo',\n",
              " 'time_signature']"
            ]
          },
          "metadata": {},
          "execution_count": 30
        }
      ]
    },
    {
      "cell_type": "code",
      "source": [
        "sns.distplot(data[\"popularity\"])"
      ],
      "metadata": {
        "id": "r4pFdMs8Z_Iz",
        "colab": {
          "base_uri": "https://localhost:8080/",
          "height": 350
        },
        "outputId": "5b255104-6d0f-44d1-e73a-8b4961da9348"
      },
      "execution_count": null,
      "outputs": [
        {
          "output_type": "stream",
          "name": "stderr",
          "text": [
            "/usr/local/lib/python3.7/dist-packages/seaborn/distributions.py:2619: FutureWarning: `distplot` is a deprecated function and will be removed in a future version. Please adapt your code to use either `displot` (a figure-level function with similar flexibility) or `histplot` (an axes-level function for histograms).\n",
            "  warnings.warn(msg, FutureWarning)\n"
          ]
        },
        {
          "output_type": "execute_result",
          "data": {
            "text/plain": [
              "<matplotlib.axes._subplots.AxesSubplot at 0x7f8876736150>"
            ]
          },
          "metadata": {},
          "execution_count": 31
        },
        {
          "output_type": "display_data",
          "data": {
            "text/plain": [
              "<Figure size 432x288 with 1 Axes>"
            ],
            "image/png": "[encoded data removed]"
          },
          "metadata": {
            "needs_background": "light"
          }
        }
      ]
    },
    {
      "cell_type": "markdown",
      "source": [
        "**DISTRIBUTION PLOT FOR \"duration_ms\"**"
      ],
      "metadata": {
        "id": "rYiQuJX8gbP1"
      }
    },
    {
      "cell_type": "code",
      "source": [
        "sns.distplot(data[\"duration_ms\"])"
      ],
      "metadata": {
        "colab": {
          "base_uri": "https://localhost:8080/",
          "height": 362
        },
        "id": "Kv5ZFzO1LTlI",
        "outputId": "9ef218af-8ead-40fe-ca88-05816a0a8890"
      },
      "execution_count": null,
      "outputs": [
        {
          "output_type": "stream",
          "name": "stderr",
          "text": [
            "/usr/local/lib/python3.7/dist-packages/seaborn/distributions.py:2619: FutureWarning: `distplot` is a deprecated function and will be removed in a future version. Please adapt your code to use either `displot` (a figure-level function with similar flexibility) or `histplot` (an axes-level function for histograms).\n",
            "  warnings.warn(msg, FutureWarning)\n"
          ]
        },
        {
          "output_type": "execute_result",
          "data": {
            "text/plain": [
              "<matplotlib.axes._subplots.AxesSubplot at 0x7f88765db710>"
            ]
          },
          "metadata": {},
          "execution_count": 32
        },
        {
          "output_type": "display_data",
          "data": {
            "text/plain": [
              "<Figure size 432x288 with 1 Axes>"
            ],
            "image/png": "[encoded data removed]"
          },
          "metadata": {
            "needs_background": "light"
          }
        }
      ]
    },
    {
      "cell_type": "markdown",
      "source": [
        "**DISTRIBUTION PLOT FOR \"liveness\"**"
      ],
      "metadata": {
        "id": "A2jfaEwmgh78"
      }
    },
    {
      "cell_type": "code",
      "source": [
        "sns.distplot(data[\"liveness\"])"
      ],
      "metadata": {
        "colab": {
          "base_uri": "https://localhost:8080/",
          "height": 350
        },
        "id": "U0VBDeu5Ld0N",
        "outputId": "5fbe7376-c7fe-4b45-c576-75061e640ed7"
      },
      "execution_count": null,
      "outputs": [
        {
          "output_type": "stream",
          "name": "stderr",
          "text": [
            "/usr/local/lib/python3.7/dist-packages/seaborn/distributions.py:2619: FutureWarning: `distplot` is a deprecated function and will be removed in a future version. Please adapt your code to use either `displot` (a figure-level function with similar flexibility) or `histplot` (an axes-level function for histograms).\n",
            "  warnings.warn(msg, FutureWarning)\n"
          ]
        },
        {
          "output_type": "execute_result",
          "data": {
            "text/plain": [
              "<matplotlib.axes._subplots.AxesSubplot at 0x7f8876509990>"
            ]
          },
          "metadata": {},
          "execution_count": 33
        },
        {
          "output_type": "display_data",
          "data": {
            "text/plain": [
              "<Figure size 432x288 with 1 Axes>"
            ],
            "image/png": "[encoded data removed]"
          },
          "metadata": {
            "needs_background": "light"
          }
        }
      ]
    },
    {
      "cell_type": "markdown",
      "source": [
        "None of the features explored until now seem to follow a normal distribution "
      ],
      "metadata": {
        "id": "N-7bUCKpOg-k"
      }
    },
    {
      "cell_type": "markdown",
      "source": [
        "**DISTRIBUTION PLOT FOR \"danceability\"**"
      ],
      "metadata": {
        "id": "h6dGN8migoul"
      }
    },
    {
      "cell_type": "code",
      "source": [
        "sns.distplot(data[\"danceability\"])"
      ],
      "metadata": {
        "colab": {
          "base_uri": "https://localhost:8080/",
          "height": 350
        },
        "id": "1C3t7QqkLppq",
        "outputId": "88b369c5-fe95-4f45-ce0e-fb8b42c85ddc"
      },
      "execution_count": null,
      "outputs": [
        {
          "output_type": "stream",
          "name": "stderr",
          "text": [
            "/usr/local/lib/python3.7/dist-packages/seaborn/distributions.py:2619: FutureWarning: `distplot` is a deprecated function and will be removed in a future version. Please adapt your code to use either `displot` (a figure-level function with similar flexibility) or `histplot` (an axes-level function for histograms).\n",
            "  warnings.warn(msg, FutureWarning)\n"
          ]
        },
        {
          "output_type": "execute_result",
          "data": {
            "text/plain": [
              "<matplotlib.axes._subplots.AxesSubplot at 0x7f8876409bd0>"
            ]
          },
          "metadata": {},
          "execution_count": 34
        },
        {
          "output_type": "display_data",
          "data": {
            "text/plain": [
              "<Figure size 432x288 with 1 Axes>"
            ],
            "image/png": "[encoded data removed]"
          },
          "metadata": {
            "needs_background": "light"
          }
        }
      ]
    },
    {
      "cell_type": "markdown",
      "source": [
        "Danceability feature seems to follow a normal distribution. "
      ],
      "metadata": {
        "id": "CYeJrAH4PIAS"
      }
    },
    {
      "cell_type": "code",
      "source": [
        "sns.distplot(data[\"duration_ms\"])"
      ],
      "metadata": {
        "colab": {
          "base_uri": "https://localhost:8080/",
          "height": 362
        },
        "id": "yc9hM6XghGk-",
        "outputId": "f1372411-7d41-490f-fa57-13095f197f6f"
      },
      "execution_count": null,
      "outputs": [
        {
          "output_type": "stream",
          "name": "stderr",
          "text": [
            "/usr/local/lib/python3.7/dist-packages/seaborn/distributions.py:2619: FutureWarning: `distplot` is a deprecated function and will be removed in a future version. Please adapt your code to use either `displot` (a figure-level function with similar flexibility) or `histplot` (an axes-level function for histograms).\n",
            "  warnings.warn(msg, FutureWarning)\n"
          ]
        },
        {
          "output_type": "execute_result",
          "data": {
            "text/plain": [
              "<matplotlib.axes._subplots.AxesSubplot at 0x7f8876371850>"
            ]
          },
          "metadata": {},
          "execution_count": 35
        },
        {
          "output_type": "display_data",
          "data": {
            "text/plain": [
              "<Figure size 432x288 with 1 Axes>"
            ],
            "image/png": "[encoded data removed]"
          },
          "metadata": {
            "needs_background": "light"
          }
        }
      ]
    },
    {
      "cell_type": "markdown",
      "source": [
        "Extremely skewed to the right. "
      ],
      "metadata": {
        "id": "q0iUVl0KhqGA"
      }
    },
    {
      "cell_type": "code",
      "source": [
        "sns.distplot(data[\"energy\"])"
      ],
      "metadata": {
        "colab": {
          "base_uri": "https://localhost:8080/",
          "height": 350
        },
        "id": "pFY5AM87hGvJ",
        "outputId": "56b74283-cda2-4ee9-9ff0-278308a96a16"
      },
      "execution_count": null,
      "outputs": [
        {
          "output_type": "stream",
          "name": "stderr",
          "text": [
            "/usr/local/lib/python3.7/dist-packages/seaborn/distributions.py:2619: FutureWarning: `distplot` is a deprecated function and will be removed in a future version. Please adapt your code to use either `displot` (a figure-level function with similar flexibility) or `histplot` (an axes-level function for histograms).\n",
            "  warnings.warn(msg, FutureWarning)\n"
          ]
        },
        {
          "output_type": "execute_result",
          "data": {
            "text/plain": [
              "<matplotlib.axes._subplots.AxesSubplot at 0x7f88762ebed0>"
            ]
          },
          "metadata": {},
          "execution_count": 36
        },
        {
          "output_type": "display_data",
          "data": {
            "text/plain": [
              "<Figure size 432x288 with 1 Axes>"
            ],
            "image/png": "[encoded data removed]"
          },
          "metadata": {
            "needs_background": "light"
          }
        }
      ]
    },
    {
      "cell_type": "markdown",
      "source": [
        "A bit inclined towards the left | cannot assumed to be a normal distribution "
      ],
      "metadata": {
        "id": "HMFH5q-xh1fF"
      }
    },
    {
      "cell_type": "code",
      "source": [
        "sns.distplot(data[\"key\"])\n",
        "\n",
        "# This does seem like a categorical columns. Well, it actually is. Let us dig into this feature later. "
      ],
      "metadata": {
        "colab": {
          "base_uri": "https://localhost:8080/",
          "height": 350
        },
        "id": "WiJxH-gfh8c5",
        "outputId": "74af6d11-d665-40dc-f2fd-02e8e99c6df5"
      },
      "execution_count": null,
      "outputs": [
        {
          "output_type": "stream",
          "name": "stderr",
          "text": [
            "/usr/local/lib/python3.7/dist-packages/seaborn/distributions.py:2619: FutureWarning: `distplot` is a deprecated function and will be removed in a future version. Please adapt your code to use either `displot` (a figure-level function with similar flexibility) or `histplot` (an axes-level function for histograms).\n",
            "  warnings.warn(msg, FutureWarning)\n"
          ]
        },
        {
          "output_type": "execute_result",
          "data": {
            "text/plain": [
              "<matplotlib.axes._subplots.AxesSubplot at 0x7f88761c4150>"
            ]
          },
          "metadata": {},
          "execution_count": 37
        },
        {
          "output_type": "display_data",
          "data": {
            "text/plain": [
              "<Figure size 432x288 with 1 Axes>"
            ],
            "image/png": "[encoded data removed]"
          },
          "metadata": {
            "needs_background": "light"
          }
        }
      ]
    },
    {
      "cell_type": "code",
      "source": [
        "sns.distplot(data[\"loudness\"])"
      ],
      "metadata": {
        "colab": {
          "base_uri": "https://localhost:8080/",
          "height": 350
        },
        "id": "Nk1i3UdZh8gA",
        "outputId": "e89f71ca-2b70-4382-92f6-81b07da8c8f7"
      },
      "execution_count": null,
      "outputs": [
        {
          "output_type": "stream",
          "name": "stderr",
          "text": [
            "/usr/local/lib/python3.7/dist-packages/seaborn/distributions.py:2619: FutureWarning: `distplot` is a deprecated function and will be removed in a future version. Please adapt your code to use either `displot` (a figure-level function with similar flexibility) or `histplot` (an axes-level function for histograms).\n",
            "  warnings.warn(msg, FutureWarning)\n"
          ]
        },
        {
          "output_type": "execute_result",
          "data": {
            "text/plain": [
              "<matplotlib.axes._subplots.AxesSubplot at 0x7f8875ff50d0>"
            ]
          },
          "metadata": {},
          "execution_count": 38
        },
        {
          "output_type": "display_data",
          "data": {
            "text/plain": [
              "<Figure size 432x288 with 1 Axes>"
            ],
            "image/png": "[encoded data removed]"
          },
          "metadata": {
            "needs_background": "light"
          }
        }
      ]
    },
    {
      "cell_type": "markdown",
      "source": [
        "Comments: Clearly skewed to the left"
      ],
      "metadata": {
        "id": "kfMOu-CTiFOH"
      }
    },
    {
      "cell_type": "code",
      "source": [
        "data[\"mode\"].value_counts()\n",
        "\n",
        "# Well, this is a categorical column too.\n",
        "\n",
        "\"\"\"\n",
        "mode: Mode indicates the modality (major or minor) of a track, the type of scale from which its melodic content is derived. Major is represented by 1 and minor is 0\n",
        "Expalantion given from the source \n",
        "\"\"\""
      ],
      "metadata": {
        "colab": {
          "base_uri": "https://localhost:8080/",
          "height": 54
        },
        "id": "yruMcfMLh8i6",
        "outputId": "74988a6f-9a0b-4ead-fb51-4e08277ff8fa"
      },
      "execution_count": null,
      "outputs": [
        {
          "output_type": "execute_result",
          "data": {
            "text/plain": [
              "'\\nmode: Mode indicates the modality (major or minor) of a track, the type of scale from which its melodic content is derived. Major is represented by 1 and minor is 0\\nExpalantion given from the source \\n'"
            ],
            "application/vnd.google.colaboratory.intrinsic+json": {
              "type": "string"
            }
          },
          "metadata": {},
          "execution_count": 39
        }
      ]
    },
    {
      "cell_type": "code",
      "source": [
        "sns.distplot(data[\"speechiness\"])"
      ],
      "metadata": {
        "colab": {
          "base_uri": "https://localhost:8080/",
          "height": 350
        },
        "id": "r7OwphHBh8lq",
        "outputId": "48eb859e-21cd-455b-e292-e316bb7a9008"
      },
      "execution_count": null,
      "outputs": [
        {
          "output_type": "stream",
          "name": "stderr",
          "text": [
            "/usr/local/lib/python3.7/dist-packages/seaborn/distributions.py:2619: FutureWarning: `distplot` is a deprecated function and will be removed in a future version. Please adapt your code to use either `displot` (a figure-level function with similar flexibility) or `histplot` (an axes-level function for histograms).\n",
            "  warnings.warn(msg, FutureWarning)\n"
          ]
        },
        {
          "output_type": "execute_result",
          "data": {
            "text/plain": [
              "<matplotlib.axes._subplots.AxesSubplot at 0x7f8876001d50>"
            ]
          },
          "metadata": {},
          "execution_count": 40
        },
        {
          "output_type": "display_data",
          "data": {
            "text/plain": [
              "<Figure size 432x288 with 1 Axes>"
            ],
            "image/png": "[encoded data removed]"
          },
          "metadata": {
            "needs_background": "light"
          }
        }
      ]
    },
    {
      "cell_type": "code",
      "source": [
        "sns.distplot(data[\"acousticness\"])"
      ],
      "metadata": {
        "colab": {
          "base_uri": "https://localhost:8080/",
          "height": 350
        },
        "id": "RBcaraKFh8py",
        "outputId": "f19b707f-7495-4d27-f276-3759591032b1"
      },
      "execution_count": null,
      "outputs": [
        {
          "output_type": "stream",
          "name": "stderr",
          "text": [
            "/usr/local/lib/python3.7/dist-packages/seaborn/distributions.py:2619: FutureWarning: `distplot` is a deprecated function and will be removed in a future version. Please adapt your code to use either `displot` (a figure-level function with similar flexibility) or `histplot` (an axes-level function for histograms).\n",
            "  warnings.warn(msg, FutureWarning)\n"
          ]
        },
        {
          "output_type": "execute_result",
          "data": {
            "text/plain": [
              "<matplotlib.axes._subplots.AxesSubplot at 0x7f8875e4c750>"
            ]
          },
          "metadata": {},
          "execution_count": 41
        },
        {
          "output_type": "display_data",
          "data": {
            "text/plain": [
              "<Figure size 432x288 with 1 Axes>"
            ],
            "image/png": "[encoded data removed]"
          },
          "metadata": {
            "needs_background": "light"
          }
        }
      ]
    },
    {
      "cell_type": "code",
      "source": [
        "sns.distplot(data[\"instrumentalness\"])"
      ],
      "metadata": {
        "colab": {
          "base_uri": "https://localhost:8080/",
          "height": 350
        },
        "id": "zD9IBU0bh8sq",
        "outputId": "8ddce9da-ccb0-4457-d933-0fd94b66b1be"
      },
      "execution_count": null,
      "outputs": [
        {
          "output_type": "stream",
          "name": "stderr",
          "text": [
            "/usr/local/lib/python3.7/dist-packages/seaborn/distributions.py:2619: FutureWarning: `distplot` is a deprecated function and will be removed in a future version. Please adapt your code to use either `displot` (a figure-level function with similar flexibility) or `histplot` (an axes-level function for histograms).\n",
            "  warnings.warn(msg, FutureWarning)\n"
          ]
        },
        {
          "output_type": "execute_result",
          "data": {
            "text/plain": [
              "<matplotlib.axes._subplots.AxesSubplot at 0x7f8875d24610>"
            ]
          },
          "metadata": {},
          "execution_count": 42
        },
        {
          "output_type": "display_data",
          "data": {
            "text/plain": [
              "<Figure size 432x288 with 1 Axes>"
            ],
            "image/png": "[encoded data removed]"
          },
          "metadata": {
            "needs_background": "light"
          }
        }
      ]
    },
    {
      "cell_type": "code",
      "source": [
        "sns.distplot(data[\"valence\"])"
      ],
      "metadata": {
        "colab": {
          "base_uri": "https://localhost:8080/",
          "height": 352
        },
        "id": "S-uAss_ch8w5",
        "outputId": "64097d3e-0990-4bc6-d11e-e0ca8b2e8be2"
      },
      "execution_count": null,
      "outputs": [
        {
          "output_type": "stream",
          "name": "stderr",
          "text": [
            "/usr/local/lib/python3.7/dist-packages/seaborn/distributions.py:2619: FutureWarning: `distplot` is a deprecated function and will be removed in a future version. Please adapt your code to use either `displot` (a figure-level function with similar flexibility) or `histplot` (an axes-level function for histograms).\n",
            "  warnings.warn(msg, FutureWarning)\n"
          ]
        },
        {
          "output_type": "execute_result",
          "data": {
            "text/plain": [
              "<matplotlib.axes._subplots.AxesSubplot at 0x7f8875c8a990>"
            ]
          },
          "metadata": {},
          "execution_count": 43
        },
        {
          "output_type": "display_data",
          "data": {
            "text/plain": [
              "<Figure size 432x288 with 1 Axes>"
            ],
            "image/png": "[encoded data removed]"
          },
          "metadata": {
            "needs_background": "light"
          }
        }
      ]
    },
    {
      "cell_type": "markdown",
      "source": [
        "This seems to be normalyy distributed"
      ],
      "metadata": {
        "id": "8eerkmrxkH-Q"
      }
    },
    {
      "cell_type": "code",
      "source": [
        "sns.distplot(data[\"tempo\"])"
      ],
      "metadata": {
        "colab": {
          "base_uri": "https://localhost:8080/",
          "height": 350
        },
        "id": "gp1XflyMh8zz",
        "outputId": "0f2c929b-02cc-4b95-f0da-3def4556d33b"
      },
      "execution_count": null,
      "outputs": [
        {
          "output_type": "stream",
          "name": "stderr",
          "text": [
            "/usr/local/lib/python3.7/dist-packages/seaborn/distributions.py:2619: FutureWarning: `distplot` is a deprecated function and will be removed in a future version. Please adapt your code to use either `displot` (a figure-level function with similar flexibility) or `histplot` (an axes-level function for histograms).\n",
            "  warnings.warn(msg, FutureWarning)\n"
          ]
        },
        {
          "output_type": "execute_result",
          "data": {
            "text/plain": [
              "<matplotlib.axes._subplots.AxesSubplot at 0x7f8875adb410>"
            ]
          },
          "metadata": {},
          "execution_count": 44
        },
        {
          "output_type": "display_data",
          "data": {
            "text/plain": [
              "<Figure size 432x288 with 1 Axes>"
            ],
            "image/png": "[encoded data removed]"
          },
          "metadata": {
            "needs_background": "light"
          }
        }
      ]
    },
    {
      "cell_type": "markdown",
      "source": [
        "The tempo feature also seems to be normally distirbuted/"
      ],
      "metadata": {
        "id": "-I1wQm9dkLOY"
      }
    },
    {
      "cell_type": "markdown",
      "source": [
        "Since most of the data is not normally distributed,  we are initially going to perform non-aprametrical stastical test. \n",
        "\n",
        "**CHI SQUARE TEST**"
      ],
      "metadata": {
        "id": "piPe6eJTfzan"
      }
    },
    {
      "cell_type": "code",
      "source": [
        "categorical_columns"
      ],
      "metadata": {
        "id": "llex7ouNPdc2",
        "colab": {
          "base_uri": "https://localhost:8080/"
        },
        "outputId": "3d66e7bc-86c1-4d7e-a86d-555b7281a66b"
      },
      "execution_count": null,
      "outputs": [
        {
          "output_type": "execute_result",
          "data": {
            "text/plain": [
              "['artists', 'track_genre']"
            ]
          },
          "metadata": {},
          "execution_count": 45
        }
      ]
    },
    {
      "cell_type": "markdown",
      "source": [
        "## **ONE WAY ANOVE TEST**\n",
        "\n",
        "We will check if different keys (ranging from 1-10 affect the popularity/danceability of the songs)"
      ],
      "metadata": {
        "id": "Acc7uiVyuJ_0"
      }
    },
    {
      "cell_type": "code",
      "source": [
        "# means of popularity for different key value\n",
        "\n",
        "popularity_means = []\n",
        "\n",
        "for val in data[\"key\"].unique():\n",
        "  popularity_means.append(data[data[\"key\"]==val][\"popularity\"].mean())\n",
        "  print(\"Key:\",val,\"-->\",data[data[\"key\"]==val][\"popularity\"].mean())"
      ],
      "metadata": {
        "id": "69FCjFf_Pdfc",
        "colab": {
          "base_uri": "https://localhost:8080/"
        },
        "outputId": "37bfea49-101f-4454-d283-de0652f7d4bc"
      },
      "execution_count": null,
      "outputs": [
        {
          "output_type": "stream",
          "name": "stdout",
          "text": [
            "Key: 1 --> 33.20024136650576\n",
            "Key: 0 --> 32.51994487405252\n",
            "Key: 2 --> 34.3776193747853\n",
            "Key: 6 --> 33.58553212978159\n",
            "Key: 11 --> 33.88763197586727\n",
            "Key: 8 --> 32.958695652173915\n",
            "Key: 4 --> 34.64365008880995\n",
            "Key: 7 --> 32.58207490184235\n",
            "Key: 3 --> 33.03165266106443\n",
            "Key: 10 --> 32.46137339055794\n",
            "Key: 5 --> 32.93093509820666\n",
            "Key: 9 --> 32.823565809246\n"
          ]
        }
      ]
    },
    {
      "cell_type": "code",
      "source": [
        "# Visual representations of the mean \n",
        "\n",
        "sns.barplot(data[\"key\"].unique(), popularity_means)\n",
        "sns.set(rc={'figure.figsize':(10,6)})"
      ],
      "metadata": {
        "colab": {
          "base_uri": "https://localhost:8080/",
          "height": 319
        },
        "id": "PITCP_dnxeZF",
        "outputId": "6b79ad4d-d343-4d3b-d44e-3801bb6a7457"
      },
      "execution_count": null,
      "outputs": [
        {
          "output_type": "stream",
          "name": "stderr",
          "text": [
            "/usr/local/lib/python3.7/dist-packages/seaborn/_decorators.py:43: FutureWarning: Pass the following variables as keyword args: x, y. From version 0.12, the only valid positional argument will be `data`, and passing other arguments without an explicit keyword will result in an error or misinterpretation.\n",
            "  FutureWarning\n"
          ]
        },
        {
          "output_type": "display_data",
          "data": {
            "text/plain": [
              "<Figure size 432x288 with 1 Axes>"
            ],
            "image/png": "[encoded data removed]"
          },
          "metadata": {
            "needs_background": "light"
          }
        }
      ]
    },
    {
      "cell_type": "code",
      "source": [
        "# means of popularity for different key value\n",
        "\n",
        "danceability_means = []\n",
        "\n",
        "for val in data[\"key\"].unique():\n",
        "  danceability_means.append(data[data[\"key\"]==val][\"danceability\"].mean())\n",
        "  print(\"Key:\",val,\"-->\",data[data[\"key\"]==val][\"danceability\"].mean())"
      ],
      "metadata": {
        "colab": {
          "base_uri": "https://localhost:8080/"
        },
        "id": "SXukcQPFJG3D",
        "outputId": "af717f52-bdba-4dce-82d1-4a418699c97c"
      },
      "execution_count": null,
      "outputs": [
        {
          "output_type": "stream",
          "name": "stdout",
          "text": [
            "Key: 1 --> 0.5778813126624582\n",
            "Key: 0 --> 0.560807939667713\n",
            "Key: 2 --> 0.544977902782549\n",
            "Key: 6 --> 0.5806644994318898\n",
            "Key: 11 --> 0.5896483731954321\n",
            "Key: 8 --> 0.5804415760869565\n",
            "Key: 4 --> 0.5561941496447601\n",
            "Key: 7 --> 0.5642306704922985\n",
            "Key: 3 --> 0.5474511764705883\n",
            "Key: 10 --> 0.5787872183476395\n",
            "Key: 5 --> 0.5668971712211786\n",
            "Key: 9 --> 0.5578825510474675\n"
          ]
        }
      ]
    },
    {
      "cell_type": "code",
      "source": [
        "# Visual representations of the mean \n",
        "\n",
        "sns.barplot(data[\"key\"].unique(), danceability_means)\n",
        "sns.set(rc={'figure.figsize':(10,6)})"
      ],
      "metadata": {
        "colab": {
          "base_uri": "https://localhost:8080/",
          "height": 431
        },
        "id": "N3N1lZyqJG62",
        "outputId": "9f1edc7f-14b6-4a24-c726-e4ce2705cac5"
      },
      "execution_count": null,
      "outputs": [
        {
          "output_type": "stream",
          "name": "stderr",
          "text": [
            "/usr/local/lib/python3.7/dist-packages/seaborn/_decorators.py:43: FutureWarning: Pass the following variables as keyword args: x, y. From version 0.12, the only valid positional argument will be `data`, and passing other arguments without an explicit keyword will result in an error or misinterpretation.\n",
            "  FutureWarning\n"
          ]
        },
        {
          "output_type": "display_data",
          "data": {
            "text/plain": [
              "<Figure size 720x432 with 1 Axes>"
            ],
            "image/png": "[encoded data removed]"
          },
          "metadata": {}
        }
      ]
    },
    {
      "cell_type": "markdown",
      "source": [
        "We are going to verify if the means are statistically significant.\n",
        "\n",
        "The question goes to : does change in the category of \"key faeature\" ranging from (0 upto 11) change the popularity of the song"
      ],
      "metadata": {
        "id": "jzhYpzqOv3Xr"
      }
    },
    {
      "cell_type": "markdown",
      "source": [
        "### HYPOTHESIS\n",
        "\n",
        "#### NULL HYPTOHESES (H0): The population means for different categories of key are equal\n",
        "\n",
        "#### ALTERNATE HYPOTHESIS (H1) : The population means are differnet, atleast between two categories.\n",
        "\n",
        "Significance value:  0.05"
      ],
      "metadata": {
        "id": "Zu94vE0YwqIJ"
      }
    },
    {
      "cell_type": "markdown",
      "source": [
        "Assumptions for the test : One assumption for ANOVA test is that the distribution of the data is normal. We will check if the data is normally distributed or we will transform the data to be normally distributed "
      ],
      "metadata": {
        "id": "4EN0KBTKDLNR"
      }
    },
    {
      "cell_type": "code",
      "source": [
        "# Library imports for qqplots and other visualisations \n",
        "\n",
        "import statsmodels.api as sm \n",
        "import pylab \n",
        "\n",
        "sm.qqplot(data[\"popularity\"], line='45')\n",
        "pylab.show()"
      ],
      "metadata": {
        "colab": {
          "base_uri": "https://localhost:8080/",
          "height": 394
        },
        "id": "WYIn3OpLDcpI",
        "outputId": "cdccfa9f-15e1-47a4-f4ab-748bf1bac0be"
      },
      "execution_count": null,
      "outputs": [
        {
          "output_type": "display_data",
          "data": {
            "text/plain": [
              "<Figure size 720x432 with 1 Axes>"
            ],
            "image/png": "[encoded data removed]"
          },
          "metadata": {}
        }
      ]
    },
    {
      "cell_type": "markdown",
      "source": [
        "The dat is not noramlly distributed since it isn't following the line of qqplot plotted above. "
      ],
      "metadata": {
        "id": "lhpxHWxXEP3R"
      }
    },
    {
      "cell_type": "code",
      "source": [
        "# Applying log transformation to the data to make it normally distributed\n",
        "\n",
        "sns.distplot(np.log([y for y in data[\"popularity\"] if y!=0]))"
      ],
      "metadata": {
        "colab": {
          "base_uri": "https://localhost:8080/",
          "height": 448
        },
        "id": "pxLCt7s_8k6l",
        "outputId": "b8e59fea-a79d-47a9-e192-dc6b979072ab"
      },
      "execution_count": null,
      "outputs": [
        {
          "output_type": "stream",
          "name": "stderr",
          "text": [
            "/usr/local/lib/python3.7/dist-packages/seaborn/distributions.py:2619: FutureWarning: `distplot` is a deprecated function and will be removed in a future version. Please adapt your code to use either `displot` (a figure-level function with similar flexibility) or `histplot` (an axes-level function for histograms).\n",
            "  warnings.warn(msg, FutureWarning)\n"
          ]
        },
        {
          "output_type": "execute_result",
          "data": {
            "text/plain": [
              "<matplotlib.axes._subplots.AxesSubplot at 0x7f886ad906d0>"
            ]
          },
          "metadata": {},
          "execution_count": 51
        },
        {
          "output_type": "display_data",
          "data": {
            "text/plain": [
              "<Figure size 720x432 with 1 Axes>"
            ],
            "image/png": "[encoded data removed]"
          },
          "metadata": {}
        }
      ]
    },
    {
      "cell_type": "code",
      "source": [
        "sm.qqplot(-1/(data[\"popularity\"]), line='45')\n",
        "plt.title(\"NEGATIVE INVERSE\")\n",
        "\n",
        "sm.qqplot(np.log(data[\"popularity\"]), line='45')\n",
        "plt.title(\"LOG TRANSFORMATION\")\n",
        "\n",
        "sm.qqplot(np.sqrt(data[\"popularity\"]), line='45')\n",
        "plt.title(\"SQUARE ROOT TRANSFORMATION\")\n",
        "\n",
        "sm.qqplot(1/np.sqrt(data[\"popularity\"]), line='45')\n",
        "plt.title(\"NEGATIVE SQUARE ROOT INVERSE\")\n",
        "pylab.show()"
      ],
      "metadata": {
        "colab": {
          "base_uri": "https://localhost:8080/",
          "height": 1000
        },
        "id": "ar4QqVQ7EZLA",
        "outputId": "dc0b06aa-cd31-464c-8789-98ba88aae15a"
      },
      "execution_count": null,
      "outputs": [
        {
          "output_type": "stream",
          "name": "stderr",
          "text": [
            "/usr/local/lib/python3.7/dist-packages/pandas/core/arraylike.py:364: RuntimeWarning: divide by zero encountered in log\n",
            "  result = getattr(ufunc, method)(*inputs, **kwargs)\n"
          ]
        },
        {
          "output_type": "display_data",
          "data": {
            "text/plain": [
              "<Figure size 720x432 with 1 Axes>"
            ],
            "image/png": "[encoded data removed]"
          },
          "metadata": {}
        },
        {
          "output_type": "display_data",
          "data": {
            "text/plain": [
              "<Figure size 720x432 with 1 Axes>"
            ],
            "image/png": "[encoded data removed]"
          },
          "metadata": {}
        },
        {
          "output_type": "display_data",
          "data": {
            "text/plain": [
              "<Figure size 720x432 with 1 Axes>"
            ],
            "image/png": "[encoded data removed]"
          },
          "metadata": {}
        },
        {
          "output_type": "display_data",
          "data": {
            "text/plain": [
              "<Figure size 720x432 with 1 Axes>"
            ],
            "image/png": "[encoded data removed]"
          },
          "metadata": {}
        }
      ]
    },
    {
      "cell_type": "markdown",
      "source": [
        "#### Since the transformation is not outputting a normal distribution. We will go ahead with \"danceability feature\""
      ],
      "metadata": {
        "id": "J0fZ6pU3F7X4"
      }
    },
    {
      "cell_type": "code",
      "source": [
        "from sklearn.preprocessing import StandardScaler\n",
        "import scipy.stats as stats\n",
        "scaler = StandardScaler()\n",
        "\n",
        "sm.qqplot(data[\"popularity\"], line='45')"
      ],
      "metadata": {
        "colab": {
          "base_uri": "https://localhost:8080/",
          "height": 771
        },
        "id": "KDfm1W9rJ4R3",
        "outputId": "43e3e78e-85b5-4b7b-e0ac-0844cad2af9e"
      },
      "execution_count": 97,
      "outputs": [
        {
          "output_type": "execute_result",
          "data": {
            "text/plain": [
              "<Figure size 720x432 with 1 Axes>"
            ],
            "image/png": "[encoded data removed]"
          },
          "metadata": {},
          "execution_count": 97
        },
        {
          "output_type": "display_data",
          "data": {
            "text/plain": [
              "<Figure size 720x432 with 1 Axes>"
            ],
            "image/png": "[encoded data removed]"
          },
          "metadata": {}
        }
      ]
    },
    {
      "cell_type": "markdown",
      "source": [
        "The prob plot verifies normality of danceability values for us. "
      ],
      "metadata": {
        "id": "kFBnFRdeRF7e"
      }
    },
    {
      "cell_type": "code",
      "source": [
        "# Printing the unique values for convenience of reference. \n",
        "\n",
        "data[\"key\"].unique()"
      ],
      "metadata": {
        "colab": {
          "base_uri": "https://localhost:8080/"
        },
        "id": "NRSSupu8GaQK",
        "outputId": "45a2c1be-6ec9-4d85-eb67-121fba421cbe"
      },
      "execution_count": null,
      "outputs": [
        {
          "output_type": "execute_result",
          "data": {
            "text/plain": [
              "array([ 1,  0,  2,  6, 11,  8,  4,  7,  3, 10,  5,  9])"
            ]
          },
          "metadata": {},
          "execution_count": 54
        }
      ]
    },
    {
      "cell_type": "code",
      "source": [
        "# Grouping the data according to categories\n",
        "\n",
        "group0_val = [x for x in data[data[\"key\"]==0]['danceability']]\n",
        "group1_val = [x for x in data[data[\"key\"]==1]['danceability']]\n",
        "group2_val = [x for x in data[data[\"key\"]==2]['danceability']]\n",
        "group3_val = [x for x in data[data[\"key\"]==3]['danceability']]\n",
        "group4_val = [x for x in data[data[\"key\"]==4]['danceability']]\n",
        "group5_val = [x for x in data[data[\"key\"]==5]['danceability']]\n",
        "group6_val = [x for x in data[data[\"key\"]==6]['danceability']]\n",
        "group7_val = [x for x in data[data[\"key\"]==7]['danceability']]\n",
        "group8_val = [x for x in data[data[\"key\"]==8]['danceability']]\n",
        "group9_val = [x for x in data[data[\"key\"]==9]['danceability']]\n",
        "group10_val = [x for x in data[data[\"key\"]==10]['danceability']]\n",
        "group11_val = [x for x in data[data[\"key\"]==11]['danceability']]"
      ],
      "metadata": {
        "id": "7jGwAh7kHZqU"
      },
      "execution_count": null,
      "outputs": []
    },
    {
      "cell_type": "code",
      "source": [
        "# Importing libraries for one way anova test\n",
        "import scipy.stats \n",
        "from scipy.stats import f_oneway\n",
        "\n",
        "statistic, p_value = f_oneway(group0_val,group1_val,group2_val,group3_val,group4_val,group5_val,group6_val,group7_val,group8_val,group9_val,group10_val,group11_val)\n",
        "\n",
        "print(\"Test Result:\\n Anova test statistic:\",statistic,\"pvalue:\",p_value)\n",
        "\n",
        "if p_value <0.05:\n",
        "  print(\"We can reject the null hypothesis as enough evidence is present\")\n",
        "else:\n",
        "  print(\"We cannot reject the null hypothesis as enough evidence supports the nulll hypothesis\")"
      ],
      "metadata": {
        "id": "OFsyeb6MPdiW",
        "colab": {
          "base_uri": "https://localhost:8080/"
        },
        "outputId": "777a543f-9f50-4668-aa29-e380f2c7e277"
      },
      "execution_count": null,
      "outputs": [
        {
          "output_type": "stream",
          "name": "stdout",
          "text": [
            "Test Result:\n",
            " Anova test statistic: 59.13920491796844 pvalue: 5.268874796291882e-132\n",
            "We can reject the null hypothesis as enough evidence is present\n"
          ]
        }
      ]
    },
    {
      "cell_type": "markdown",
      "source": [
        "Since the pvalue is less than 0.05 (our significance value). We reject the null hypothesis. To conclude, there is enough evidence to reject that populations means of danceability feature for difference categories of key are equal"
      ],
      "metadata": {
        "id": "XBRSr4jf0Cdh"
      }
    },
    {
      "cell_type": "markdown",
      "source": [
        "#### Let us explore about the music that's explicit and non-explicit"
      ],
      "metadata": {
        "id": "S-vSw-jZUTP7"
      }
    },
    {
      "cell_type": "code",
      "source": [
        "danceability_means = []\n",
        "\n",
        "print(\"VALUE COUNTS:\\n\",data['explicit'].value_counts(),'\\n')\n",
        "\n",
        "for cols in numerical_columns:\n",
        "  print(\"\\n\",cols)\n",
        "  for val in data[\"explicit\"].unique():\n",
        "    print(val,\"-->\",data[data[\"explicit\"]==val][cols].mean())"
      ],
      "metadata": {
        "colab": {
          "base_uri": "https://localhost:8080/"
        },
        "id": "97Nq-EacVOol",
        "outputId": "934bc615-bae5-407e-d432-057f7e12b0b6"
      },
      "execution_count": 63,
      "outputs": [
        {
          "output_type": "stream",
          "name": "stdout",
          "text": [
            "VALUE COUNTS:\n",
            " False    104252\n",
            "True       9747\n",
            "Name: explicit, dtype: int64 \n",
            "\n",
            "\n",
            " popularity\n",
            "False --> 32.93820742048114\n",
            "True --> 36.4541910331384\n",
            "\n",
            " duration_ms\n",
            "False --> 230172.50744350228\n",
            "True --> 205127.65045655073\n",
            "\n",
            " explicit\n",
            "False --> 0.0\n",
            "True --> 1.0\n",
            "\n",
            " danceability\n",
            "False --> 0.5602999894486438\n",
            "True --> 0.63633035805889\n",
            "\n",
            " energy\n",
            "False --> 0.6339265256992672\n",
            "True --> 0.7211391505078485\n",
            "\n",
            " key\n",
            "False --> 5.30424356367264\n",
            "True --> 5.361341951369652\n",
            "\n",
            " loudness\n",
            "False --> -8.42593674941488\n",
            "True --> -6.472890530419616\n",
            "\n",
            " mode\n",
            "False --> 0.6430284311092354\n",
            "True --> 0.5790499640915153\n",
            "\n",
            " speechiness\n",
            "False --> 0.07469636841499443\n",
            "True --> 0.19113927362265312\n",
            "\n",
            " acousticness\n",
            "False --> 0.3245048718502283\n",
            "True --> 0.21224738099825585\n",
            "\n",
            " instrumentalness\n",
            "False --> 0.16583843812473623\n",
            "True --> 0.051365585291884674\n",
            "\n",
            " liveness\n",
            "False --> 0.21165942917162264\n",
            "True --> 0.23381859033548788\n",
            "\n",
            " valence\n",
            "False --> 0.47433372818746894\n",
            "True --> 0.4712018569816354\n",
            "\n",
            " tempo\n",
            "False --> 122.17349757318803\n",
            "True --> 121.8717134502924\n",
            "\n",
            " time_signature\n",
            "False --> 3.8989563749376512\n",
            "True --> 3.9583461577921413\n"
          ]
        }
      ]
    },
    {
      "cell_type": "code",
      "source": [
        "sns.barplot(data['explicit'].value_counts().index,data['explicit'].value_counts())"
      ],
      "metadata": {
        "colab": {
          "base_uri": "https://localhost:8080/",
          "height": 448
        },
        "id": "KitgvU3Id_oy",
        "outputId": "6b6419a4-0f17-4d2d-811b-e86bbcfee2ea"
      },
      "execution_count": 80,
      "outputs": [
        {
          "output_type": "stream",
          "name": "stderr",
          "text": [
            "/usr/local/lib/python3.7/dist-packages/seaborn/_decorators.py:43: FutureWarning: Pass the following variables as keyword args: x, y. From version 0.12, the only valid positional argument will be `data`, and passing other arguments without an explicit keyword will result in an error or misinterpretation.\n",
            "  FutureWarning\n"
          ]
        },
        {
          "output_type": "execute_result",
          "data": {
            "text/plain": [
              "<matplotlib.axes._subplots.AxesSubplot at 0x7f88670a2dd0>"
            ]
          },
          "metadata": {},
          "execution_count": 80
        },
        {
          "output_type": "display_data",
          "data": {
            "text/plain": [
              "<Figure size 720x432 with 1 Axes>"
            ],
            "image/png": "[encoded data removed]"
          },
          "metadata": {}
        }
      ]
    },
    {
      "cell_type": "code",
      "source": [
        "# Since the values are imabalanced. Let us pick out a samples from \"False\" to balance it with True\n",
        "\n",
        "# defining sample_size\n",
        "sample_size = 9000\n",
        "\n",
        "# Gathering samples from data \n",
        "f_data = data[data[\"explicit\"]==False].sample(n=sample_size)\n",
        "t_data = data[data['explicit']==True].sample(n=sample_size)\n",
        "\n",
        "# Combining gathered samples\n",
        "testing_data  = pd.concat([f_data,t_data])"
      ],
      "metadata": {
        "id": "OFMu-Ut4Zn4B"
      },
      "execution_count": 81,
      "outputs": []
    },
    {
      "cell_type": "code",
      "source": [
        "# Prining the means of data in collected samples\n",
        "transformed_pop_data = [np.sqrt(x) for x in testing_data['popularity'] if x!=0]\n",
        "\n",
        "sns.distplot(transformed_pop_data)"
      ],
      "metadata": {
        "id": "RI4fchYGVOt1",
        "colab": {
          "base_uri": "https://localhost:8080/",
          "height": 448
        },
        "outputId": "3d43fdb1-f4d2-41f1-b44c-b46b905f866c"
      },
      "execution_count": 115,
      "outputs": [
        {
          "output_type": "stream",
          "name": "stderr",
          "text": [
            "/usr/local/lib/python3.7/dist-packages/seaborn/distributions.py:2619: FutureWarning: `distplot` is a deprecated function and will be removed in a future version. Please adapt your code to use either `displot` (a figure-level function with similar flexibility) or `histplot` (an axes-level function for histograms).\n",
            "  warnings.warn(msg, FutureWarning)\n"
          ]
        },
        {
          "output_type": "execute_result",
          "data": {
            "text/plain": [
              "<matplotlib.axes._subplots.AxesSubplot at 0x7f88669c2790>"
            ]
          },
          "metadata": {},
          "execution_count": 115
        },
        {
          "output_type": "display_data",
          "data": {
            "text/plain": [
              "<Figure size 720x432 with 1 Axes>"
            ],
            "image/png": "[encoded data removed]"
          },
          "metadata": {}
        }
      ]
    },
    {
      "cell_type": "code",
      "source": [
        "sns.distplot(testing_data[\"popularity\"])"
      ],
      "metadata": {
        "colab": {
          "base_uri": "https://localhost:8080/",
          "height": 465
        },
        "id": "iuHCxAFooQIT",
        "outputId": "23478acf-8c27-4bd4-cc92-cb95820a82dd"
      },
      "execution_count": 126,
      "outputs": [
        {
          "output_type": "stream",
          "name": "stderr",
          "text": [
            "/usr/local/lib/python3.7/dist-packages/seaborn/distributions.py:2619: FutureWarning: `distplot` is a deprecated function and will be removed in a future version. Please adapt your code to use either `displot` (a figure-level function with similar flexibility) or `histplot` (an axes-level function for histograms).\n",
            "  warnings.warn(msg, FutureWarning)\n"
          ]
        },
        {
          "output_type": "execute_result",
          "data": {
            "text/plain": [
              "<matplotlib.axes._subplots.AxesSubplot at 0x7f8865753850>"
            ]
          },
          "metadata": {},
          "execution_count": 126
        },
        {
          "output_type": "display_data",
          "data": {
            "text/plain": [
              "<Figure size 720x432 with 1 Axes>"
            ],
            "image/png": "[encoded data removed]"
          },
          "metadata": {}
        }
      ]
    },
    {
      "cell_type": "code",
      "source": [
        "sns.distplot(testing_data[\"popularity\"])"
      ],
      "metadata": {
        "colab": {
          "base_uri": "https://localhost:8080/",
          "height": 465
        },
        "id": "UtFExv5niz49",
        "outputId": "2bd23cd6-dc89-4b66-9c30-b7ce6b24e662"
      },
      "execution_count": 116,
      "outputs": [
        {
          "output_type": "stream",
          "name": "stderr",
          "text": [
            "/usr/local/lib/python3.7/dist-packages/seaborn/distributions.py:2619: FutureWarning: `distplot` is a deprecated function and will be removed in a future version. Please adapt your code to use either `displot` (a figure-level function with similar flexibility) or `histplot` (an axes-level function for histograms).\n",
            "  warnings.warn(msg, FutureWarning)\n"
          ]
        },
        {
          "output_type": "execute_result",
          "data": {
            "text/plain": [
              "<matplotlib.axes._subplots.AxesSubplot at 0x7f886624d910>"
            ]
          },
          "metadata": {},
          "execution_count": 116
        },
        {
          "output_type": "display_data",
          "data": {
            "text/plain": [
              "<Figure size 720x432 with 1 Axes>"
            ],
            "image/png": "[encoded data removed]"
          },
          "metadata": {}
        }
      ]
    },
    {
      "cell_type": "markdown",
      "source": [
        "#### EXPLICIT - YES : DISTRIBUTION "
      ],
      "metadata": {
        "id": "1tskGXEKoxxe"
      }
    },
    {
      "cell_type": "code",
      "source": [
        "sns.distplot(testing_data[testing_data[\"explicit\"]==True]['popularity'])"
      ],
      "metadata": {
        "colab": {
          "base_uri": "https://localhost:8080/",
          "height": 465
        },
        "id": "CRYd_GXSnvMv",
        "outputId": "d2f7765e-6374-4a1d-e298-1852c4c48eef"
      },
      "execution_count": 124,
      "outputs": [
        {
          "output_type": "stream",
          "name": "stderr",
          "text": [
            "/usr/local/lib/python3.7/dist-packages/seaborn/distributions.py:2619: FutureWarning: `distplot` is a deprecated function and will be removed in a future version. Please adapt your code to use either `displot` (a figure-level function with similar flexibility) or `histplot` (an axes-level function for histograms).\n",
            "  warnings.warn(msg, FutureWarning)\n"
          ]
        },
        {
          "output_type": "execute_result",
          "data": {
            "text/plain": [
              "<matplotlib.axes._subplots.AxesSubplot at 0x7f8865887310>"
            ]
          },
          "metadata": {},
          "execution_count": 124
        },
        {
          "output_type": "display_data",
          "data": {
            "text/plain": [
              "<Figure size 720x432 with 1 Axes>"
            ],
            "image/png": "[encoded data removed]"
          },
          "metadata": {}
        }
      ]
    },
    {
      "cell_type": "markdown",
      "source": [
        "#### EXPLICIT - NO : DISTRIBUTION "
      ],
      "metadata": {
        "id": "hVO54Lpmoyb7"
      }
    },
    {
      "cell_type": "code",
      "source": [
        "sns.distplot(testing_data[testing_data[\"explicit\"]==False]['popularity'])"
      ],
      "metadata": {
        "colab": {
          "base_uri": "https://localhost:8080/",
          "height": 465
        },
        "id": "mwuA5GGWnvPn",
        "outputId": "fc522491-244a-49ad-ab0c-e21f084790ef"
      },
      "execution_count": 125,
      "outputs": [
        {
          "output_type": "stream",
          "name": "stderr",
          "text": [
            "/usr/local/lib/python3.7/dist-packages/seaborn/distributions.py:2619: FutureWarning: `distplot` is a deprecated function and will be removed in a future version. Please adapt your code to use either `displot` (a figure-level function with similar flexibility) or `histplot` (an axes-level function for histograms).\n",
            "  warnings.warn(msg, FutureWarning)\n"
          ]
        },
        {
          "output_type": "execute_result",
          "data": {
            "text/plain": [
              "<matplotlib.axes._subplots.AxesSubplot at 0x7f8865801810>"
            ]
          },
          "metadata": {},
          "execution_count": 125
        },
        {
          "output_type": "display_data",
          "data": {
            "text/plain": [
              "<Figure size 720x432 with 1 Axes>"
            ],
            "image/png": "[encoded data removed]"
          },
          "metadata": {}
        }
      ]
    },
    {
      "cell_type": "code",
      "source": [
        "import numpy as np \n",
        "import pylab \n",
        "import scipy.stats as stats\n",
        "                   \n",
        "stats.probplot(testing_data['popularity'], dist=\"norm\", plot=pylab)\n",
        "pylab.show()"
      ],
      "metadata": {
        "colab": {
          "base_uri": "https://localhost:8080/",
          "height": 410
        },
        "id": "88-T6NlceG1A",
        "outputId": "9006b9bb-916b-4d49-e148-d32753fc4f75"
      },
      "execution_count": 98,
      "outputs": [
        {
          "output_type": "display_data",
          "data": {
            "text/plain": [
              "<Figure size 720x432 with 1 Axes>"
            ],
            "image/png": "[encoded data removed]"
          },
          "metadata": {}
        }
      ]
    },
    {
      "cell_type": "markdown",
      "source": [
        "# Let's do a ttest if popularity is affected by explicit"
      ],
      "metadata": {
        "id": "mgSxYquvjiXJ"
      }
    },
    {
      "cell_type": "code",
      "source": [
        "print(\"TRUE MEAN:\",np.round(testing_data[testing_data[\"explicit\"]==True]['popularity'].mean(),2))\n",
        "print(\"FALSE MEAN:\", np.round(testing_data[testing_data[\"explicit\"]==False]['popularity'].mean(),2))"
      ],
      "metadata": {
        "id": "G-_mltHuVOxj",
        "colab": {
          "base_uri": "https://localhost:8080/"
        },
        "outputId": "1e329a7c-fee3-4960-835d-e42472433b82"
      },
      "execution_count": 123,
      "outputs": [
        {
          "output_type": "stream",
          "name": "stdout",
          "text": [
            "TRUE MEAN: 36.38\n",
            "FALSE MEAN: 32.96\n"
          ]
        }
      ]
    },
    {
      "cell_type": "markdown",
      "source": [
        "### HYPOTHESIS\n",
        "\n",
        "#### NULL HYPTOHESES (H0): The sample means are same for two categories\n",
        "\n",
        "#### ALTERNATE HYPOTHESIS (H1) : The population means are differnet between two categories\n",
        "\n",
        "Significance value:  0.05"
      ],
      "metadata": {
        "id": "OcwD7R4amVpu"
      }
    },
    {
      "cell_type": "code",
      "source": [
        "# Importing libraries for one way anova test\n",
        "import scipy.stats \n",
        "from scipy.stats import f_oneway\n",
        "\n",
        "group1 = [x for x in testing_data[testing_data[\"explicit\"]==True]['popularity']]\n",
        "group2 = [x for x in testing_data[testing_data[\"explicit\"]==False]['popularity']]\n",
        "\n",
        "statistic, p_value = f_oneway(group1, group2)\n",
        "\n",
        "print(\"Test Result:\\n Anova test statistic:\",statistic,\"pvalue:\",p_value)\n",
        "\n",
        "if p_value <0.05:\n",
        "  print(\"We can reject the null hypothesis as enough evidence is present\")\n",
        "else:\n",
        "  print(\"We cannot reject the null hypothesis as enough evidence supports the null hypothesis\")"
      ],
      "metadata": {
        "id": "58GT9W9DUbrG",
        "colab": {
          "base_uri": "https://localhost:8080/"
        },
        "outputId": "211d25f9-33a0-49d9-efad-a38822b2321d"
      },
      "execution_count": 127,
      "outputs": [
        {
          "output_type": "stream",
          "name": "stdout",
          "text": [
            "Test Result:\n",
            " Anova test statistic: 97.13054229914404 pvalue: 7.415552664602674e-23\n",
            "We can reject the null hypothesis as enough evidence is present\n"
          ]
        }
      ]
    },
    {
      "cell_type": "markdown",
      "source": [
        "### RESULTS : We can conclude that difference in means for two groups is statistically significant. "
      ],
      "metadata": {
        "id": "hV_BappLp5Cs"
      }
    },
    {
      "cell_type": "code",
      "source": [],
      "metadata": {
        "id": "DVAdOouOUbvB"
      },
      "execution_count": null,
      "outputs": []
    },
    {
      "cell_type": "code",
      "source": [],
      "metadata": {
        "id": "B0IgMCE0Ub0X"
      },
      "execution_count": null,
      "outputs": []
    },
    {
      "cell_type": "code",
      "source": [],
      "metadata": {
        "id": "odklh34PUb4M"
      },
      "execution_count": null,
      "outputs": []
    },
    {
      "cell_type": "code",
      "source": [],
      "metadata": {
        "id": "4aiZ--ffUb8U"
      },
      "execution_count": null,
      "outputs": []
    },
    {
      "cell_type": "code",
      "source": [],
      "metadata": {
        "id": "qVL-EJygUcAV"
      },
      "execution_count": null,
      "outputs": []
    },
    {
      "cell_type": "code",
      "source": [],
      "metadata": {
        "id": "47H1fDYDUcD8"
      },
      "execution_count": null,
      "outputs": []
    },
    {
      "cell_type": "code",
      "source": [],
      "metadata": {
        "id": "xfJkexLzUcHs"
      },
      "execution_count": null,
      "outputs": []
    },
    {
      "cell_type": "code",
      "source": [],
      "metadata": {
        "id": "Cy5ViNmDUcND"
      },
      "execution_count": null,
      "outputs": []
    },
    {
      "cell_type": "code",
      "source": [],
      "metadata": {
        "id": "Nm9EiJtTUcQt"
      },
      "execution_count": null,
      "outputs": []
    },
    {
      "cell_type": "code",
      "source": [],
      "metadata": {
        "id": "Eb4yD45NUcUV"
      },
      "execution_count": null,
      "outputs": []
    },
    {
      "cell_type": "markdown",
      "source": [
        "## EXPLORING AND COMPARING NUMERIC VARIABLES"
      ],
      "metadata": {
        "id": "9d8N4bI2L9B6"
      }
    },
    {
      "cell_type": "code",
      "source": [
        "numerical_columns"
      ],
      "metadata": {
        "id": "jVIAaG6KPdnT",
        "colab": {
          "base_uri": "https://localhost:8080/"
        },
        "outputId": "186b92ee-b050-4ebb-8407-f0b1894cc2a2"
      },
      "execution_count": null,
      "outputs": [
        {
          "output_type": "execute_result",
          "data": {
            "text/plain": [
              "['popularity',\n",
              " 'duration_ms',\n",
              " 'explicit',\n",
              " 'danceability',\n",
              " 'energy',\n",
              " 'loudness',\n",
              " 'speechiness',\n",
              " 'acousticness',\n",
              " 'instrumentalness',\n",
              " 'liveness',\n",
              " 'valence',\n",
              " 'tempo',\n",
              " 'time_signature']"
            ]
          },
          "metadata": {},
          "execution_count": 66
        }
      ]
    },
    {
      "cell_type": "code",
      "source": [],
      "metadata": {
        "id": "XbLfNQg5Oisf"
      },
      "execution_count": null,
      "outputs": []
    },
    {
      "cell_type": "code",
      "source": [
        "\"\"\" \n",
        "Although we key and mode values consists of number, we cannot really interpret them as numerical variables because they are categories, where each category \n",
        "is a numeric value. So, we will change our lists necessarily. \n",
        "\"\"\"\n",
        "\n",
        "# Appending values into categorical columns \n",
        "categorical_columns.append(\"key\")\n",
        "categorical_columns.append(\"mode\")\n",
        "categorical_columns.append(\"explicit\")\n",
        "\n",
        "# Removing values from numerical_columns\n",
        "numerical_columns.remove(\"key\")\n",
        "numerical_columns.remove(\"mode\")\n",
        "numerical_columns.remove(\"explicit\")"
      ],
      "metadata": {
        "id": "vvEqMFTw5mEG"
      },
      "execution_count": null,
      "outputs": []
    },
    {
      "cell_type": "markdown",
      "source": [
        "### OUTLIERS\n",
        "\n",
        "We are going to deal with outliers in this section "
      ],
      "metadata": {
        "id": "7Z-kg4nuPHya"
      }
    },
    {
      "cell_type": "code",
      "source": [
        "for cols in numerical_columns:\n",
        "  print(cols,\"\\nMin value:\",min(data[cols]),\"Max value:\",max(data[cols]),\"Range:\",max(data[cols])-min(data[cols]),\"\\n\")"
      ],
      "metadata": {
        "colab": {
          "base_uri": "https://localhost:8080/"
        },
        "id": "KvBe9tOiLbKQ",
        "outputId": "1a0812b2-6f6e-4016-cac5-80ad6bd6fbf4"
      },
      "execution_count": null,
      "outputs": [
        {
          "output_type": "stream",
          "name": "stdout",
          "text": [
            "popularity \n",
            "Min value: 0 Max value: 100 Range: 100 \n",
            "\n",
            "duration_ms \n",
            "Min value: 8586 Max value: 5237295 Range: 5228709 \n",
            "\n",
            "danceability \n",
            "Min value: 0.0 Max value: 0.985 Range: 0.985 \n",
            "\n",
            "energy \n",
            "Min value: 0.0 Max value: 1.0 Range: 1.0 \n",
            "\n",
            "loudness \n",
            "Min value: -49.531 Max value: 4.532 Range: 54.063 \n",
            "\n",
            "speechiness \n",
            "Min value: 0.0 Max value: 0.965 Range: 0.965 \n",
            "\n",
            "acousticness \n",
            "Min value: 0.0 Max value: 0.996 Range: 0.996 \n",
            "\n",
            "instrumentalness \n",
            "Min value: 0.0 Max value: 1.0 Range: 1.0 \n",
            "\n",
            "liveness \n",
            "Min value: 0.0 Max value: 1.0 Range: 1.0 \n",
            "\n",
            "valence \n",
            "Min value: 0.0 Max value: 0.995 Range: 0.995 \n",
            "\n",
            "tempo \n",
            "Min value: 0.0 Max value: 243.372 Range: 243.372 \n",
            "\n",
            "time_signature \n",
            "Min value: 0 Max value: 5 Range: 5 \n",
            "\n"
          ]
        }
      ]
    },
    {
      "cell_type": "code",
      "source": [],
      "metadata": {
        "colab": {
          "base_uri": "https://localhost:8080/"
        },
        "id": "uk41mNeCOVhO",
        "outputId": "a0e01f85-56d2-442a-f495-dd6730798c07"
      },
      "execution_count": null,
      "outputs": [
        {
          "output_type": "execute_result",
          "data": {
            "text/plain": [
              "0         False\n",
              "1         False\n",
              "2         False\n",
              "3         False\n",
              "4         False\n",
              "          ...  \n",
              "113995    False\n",
              "113996    False\n",
              "113997    False\n",
              "113998    False\n",
              "113999    False\n",
              "Name: explicit, Length: 113999, dtype: bool"
            ]
          },
          "metadata": {},
          "execution_count": 73
        }
      ]
    },
    {
      "cell_type": "code",
      "source": [],
      "metadata": {
        "id": "-JZDhjmcT4G1"
      },
      "execution_count": null,
      "outputs": []
    }
  ]
}